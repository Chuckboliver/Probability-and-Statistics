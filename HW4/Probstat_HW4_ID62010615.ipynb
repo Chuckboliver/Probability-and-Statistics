{
  "nbformat": 4,
  "nbformat_minor": 0,
  "metadata": {
    "colab": {
      "name": "Probstat_HW4_ID62010615.ipynb",
      "provenance": [],
      "collapsed_sections": [],
      "authorship_tag": "ABX9TyNm4FvnndNJCF/e3IqpUout",
      "include_colab_link": true
    },
    "kernelspec": {
      "name": "python3",
      "display_name": "Python 3"
    }
  },
  "cells": [
    {
      "cell_type": "markdown",
      "metadata": {
        "id": "view-in-github",
        "colab_type": "text"
      },
      "source": [
        "<a href=\"https://colab.research.google.com/github/Chuckboliver/Probability-and-Statistics/blob/main/HW4/Probstat_HW4_ID62010615.ipynb\" target=\"_parent\"><img src=\"https://colab.research.google.com/assets/colab-badge.svg\" alt=\"Open In Colab\"/></a>"
      ]
    },
    {
      "cell_type": "markdown",
      "metadata": {
        "id": "xmuXWSdBy5Hp"
      },
      "source": [
        "# **Probability and Statistics**\n",
        "---\n",
        "***62010615 พัฒน์ภูมิ หาแก้ว***\n",
        "## **Homework 4 : Confidence Interval (CI) of Mean**\n",
        "* หา **Confidence Interval (CI) of Mean** ของข้อมูล 1 คอลัมน์ที่เป็นตัวเลข\n",
        "* ด้วยค่า **Confidence Level = 90%, 95%, 99%**\n",
        "\n",
        "## **Data set**\n",
        "- Pokemon for datamining and machine learning \n",
        "\n",
        "> **source :** https://www.kaggle.com/alopez247/pokemon"
      ]
    },
    {
      "cell_type": "markdown",
      "metadata": {
        "id": "6oOFPwJ-3ON7"
      },
      "source": [
        "# **Module ที่ใช้**\n",
        "---\n",
        "\n",
        "*   Pandas\n",
        "*   Scikit learn\n",
        "*   Matplotlib\n",
        "*   Numpy\n",
        "*   Scipy"
      ]
    },
    {
      "cell_type": "code",
      "metadata": {
        "colab": {
          "base_uri": "https://localhost:8080/"
        },
        "id": "4FUk5tmfFAXG",
        "outputId": "8fc06218-50bc-410b-a0bb-9b086597fe3c"
      },
      "source": [
        "from google.colab import drive\n",
        "import pandas as pd\n",
        "import matplotlib.pyplot as plt\n",
        "import scipy\n",
        "import numpy as np\n",
        "from sklearn.utils import resample\n",
        "drive.mount(\"/content/drive\")\n",
        "%matplotlib inline\n",
        "plt.style.use(\"seaborn-darkgrid\")"
      ],
      "execution_count": 689,
      "outputs": [
        {
          "output_type": "stream",
          "text": [
            "Drive already mounted at /content/drive; to attempt to forcibly remount, call drive.mount(\"/content/drive\", force_remount=True).\n"
          ],
          "name": "stdout"
        }
      ]
    },
    {
      "cell_type": "markdown",
      "metadata": {
        "id": "vOWxeo9s4WhP"
      },
      "source": [
        "# **Data set**\n",
        "---\n",
        "* ข้อมูลขนาด 721 แถว\n",
        "\n",
        "## **Columns ที่สนใจ :**\n",
        "1. **Name** (ชื่อของ Pokemon)\n",
        "2. **Height_m** (ส่วนสูงของ Pokemon ในหน่วยเมตร)\n",
        "3. **Weight_kg** (น้ำหนักของ Pokemon ในหน่วยกิโลกรัม)\n",
        "4. **Type_1** (ชนิดของ Pokemon)\n",
        "5. **Body_Style** (รูปร่างร่างกายของ Pokemon)"
      ]
    },
    {
      "cell_type": "code",
      "metadata": {
        "colab": {
          "base_uri": "https://localhost:8080/",
          "height": 402
        },
        "id": "KrZx56fAGWkk",
        "outputId": "8d89ccce-546c-4ae7-91d7-6cdd3df1307f"
      },
      "source": [
        "df = pd.read_csv(\"/content/drive/MyDrive/Data sets/pokemon_alopez247.csv\")\n",
        "df = df[[\"Name\", \"Height_m\", \"Weight_kg\", \"Type_1\",  \"Body_Style\"]]\n",
        "df"
      ],
      "execution_count": 690,
      "outputs": [
        {
          "output_type": "execute_result",
          "data": {
            "text/html": [
              "<div>\n",
              "<style scoped>\n",
              "    .dataframe tbody tr th:only-of-type {\n",
              "        vertical-align: middle;\n",
              "    }\n",
              "\n",
              "    .dataframe tbody tr th {\n",
              "        vertical-align: top;\n",
              "    }\n",
              "\n",
              "    .dataframe thead th {\n",
              "        text-align: right;\n",
              "    }\n",
              "</style>\n",
              "<table border=\"1\" class=\"dataframe\">\n",
              "  <thead>\n",
              "    <tr style=\"text-align: right;\">\n",
              "      <th></th>\n",
              "      <th>Name</th>\n",
              "      <th>Height_m</th>\n",
              "      <th>Weight_kg</th>\n",
              "      <th>Type_1</th>\n",
              "      <th>Body_Style</th>\n",
              "    </tr>\n",
              "  </thead>\n",
              "  <tbody>\n",
              "    <tr>\n",
              "      <th>0</th>\n",
              "      <td>Bulbasaur</td>\n",
              "      <td>0.71</td>\n",
              "      <td>6.9</td>\n",
              "      <td>Grass</td>\n",
              "      <td>quadruped</td>\n",
              "    </tr>\n",
              "    <tr>\n",
              "      <th>1</th>\n",
              "      <td>Ivysaur</td>\n",
              "      <td>0.99</td>\n",
              "      <td>13.0</td>\n",
              "      <td>Grass</td>\n",
              "      <td>quadruped</td>\n",
              "    </tr>\n",
              "    <tr>\n",
              "      <th>2</th>\n",
              "      <td>Venusaur</td>\n",
              "      <td>2.01</td>\n",
              "      <td>100.0</td>\n",
              "      <td>Grass</td>\n",
              "      <td>quadruped</td>\n",
              "    </tr>\n",
              "    <tr>\n",
              "      <th>3</th>\n",
              "      <td>Charmander</td>\n",
              "      <td>0.61</td>\n",
              "      <td>8.5</td>\n",
              "      <td>Fire</td>\n",
              "      <td>bipedal_tailed</td>\n",
              "    </tr>\n",
              "    <tr>\n",
              "      <th>4</th>\n",
              "      <td>Charmeleon</td>\n",
              "      <td>1.09</td>\n",
              "      <td>19.0</td>\n",
              "      <td>Fire</td>\n",
              "      <td>bipedal_tailed</td>\n",
              "    </tr>\n",
              "    <tr>\n",
              "      <th>...</th>\n",
              "      <td>...</td>\n",
              "      <td>...</td>\n",
              "      <td>...</td>\n",
              "      <td>...</td>\n",
              "      <td>...</td>\n",
              "    </tr>\n",
              "    <tr>\n",
              "      <th>716</th>\n",
              "      <td>Yveltal</td>\n",
              "      <td>5.79</td>\n",
              "      <td>203.0</td>\n",
              "      <td>Dark</td>\n",
              "      <td>two_wings</td>\n",
              "    </tr>\n",
              "    <tr>\n",
              "      <th>717</th>\n",
              "      <td>Zygarde</td>\n",
              "      <td>5.00</td>\n",
              "      <td>305.0</td>\n",
              "      <td>Dragon</td>\n",
              "      <td>serpentine_body</td>\n",
              "    </tr>\n",
              "    <tr>\n",
              "      <th>718</th>\n",
              "      <td>Diancie</td>\n",
              "      <td>0.71</td>\n",
              "      <td>8.8</td>\n",
              "      <td>Rock</td>\n",
              "      <td>head_arms</td>\n",
              "    </tr>\n",
              "    <tr>\n",
              "      <th>719</th>\n",
              "      <td>Hoopa</td>\n",
              "      <td>0.51</td>\n",
              "      <td>9.0</td>\n",
              "      <td>Psychic</td>\n",
              "      <td>head_only</td>\n",
              "    </tr>\n",
              "    <tr>\n",
              "      <th>720</th>\n",
              "      <td>Volcanion</td>\n",
              "      <td>1.70</td>\n",
              "      <td>195.0</td>\n",
              "      <td>Fire</td>\n",
              "      <td>quadruped</td>\n",
              "    </tr>\n",
              "  </tbody>\n",
              "</table>\n",
              "<p>721 rows × 5 columns</p>\n",
              "</div>"
            ],
            "text/plain": [
              "           Name  Height_m  Weight_kg   Type_1       Body_Style\n",
              "0     Bulbasaur      0.71        6.9    Grass        quadruped\n",
              "1       Ivysaur      0.99       13.0    Grass        quadruped\n",
              "2      Venusaur      2.01      100.0    Grass        quadruped\n",
              "3    Charmander      0.61        8.5     Fire   bipedal_tailed\n",
              "4    Charmeleon      1.09       19.0     Fire   bipedal_tailed\n",
              "..          ...       ...        ...      ...              ...\n",
              "716     Yveltal      5.79      203.0     Dark        two_wings\n",
              "717     Zygarde      5.00      305.0   Dragon  serpentine_body\n",
              "718     Diancie      0.71        8.8     Rock        head_arms\n",
              "719       Hoopa      0.51        9.0  Psychic        head_only\n",
              "720   Volcanion      1.70      195.0     Fire        quadruped\n",
              "\n",
              "[721 rows x 5 columns]"
            ]
          },
          "metadata": {
            "tags": []
          },
          "execution_count": 690
        }
      ]
    },
    {
      "cell_type": "markdown",
      "metadata": {
        "id": "_Oji5BSNxe3A"
      },
      "source": [
        "# **Population mean**\n",
        "---\n",
        "* ค่าเฉลี่ยประชากรของ Pokemon ทั้งหมด 721 ตัว"
      ]
    },
    {
      "cell_type": "code",
      "metadata": {
        "colab": {
          "base_uri": "https://localhost:8080/",
          "height": 77
        },
        "id": "FTAtmSoa_cIq",
        "outputId": "ce8f09f1-cf64-4bfe-8b67-19f1ec67a756"
      },
      "source": [
        "s = df[[\"Height_m\"]].mean(skipna=True, axis=\"index\")\n",
        "pop_mean = float(s)\n",
        "pd.DataFrame(s, columns=[\"Population Mean\"]).T"
      ],
      "execution_count": 691,
      "outputs": [
        {
          "output_type": "execute_result",
          "data": {
            "text/html": [
              "<div>\n",
              "<style scoped>\n",
              "    .dataframe tbody tr th:only-of-type {\n",
              "        vertical-align: middle;\n",
              "    }\n",
              "\n",
              "    .dataframe tbody tr th {\n",
              "        vertical-align: top;\n",
              "    }\n",
              "\n",
              "    .dataframe thead th {\n",
              "        text-align: right;\n",
              "    }\n",
              "</style>\n",
              "<table border=\"1\" class=\"dataframe\">\n",
              "  <thead>\n",
              "    <tr style=\"text-align: right;\">\n",
              "      <th></th>\n",
              "      <th>Height_m</th>\n",
              "    </tr>\n",
              "  </thead>\n",
              "  <tbody>\n",
              "    <tr>\n",
              "      <th>Population Mean</th>\n",
              "      <td>1.144979</td>\n",
              "    </tr>\n",
              "  </tbody>\n",
              "</table>\n",
              "</div>"
            ],
            "text/plain": [
              "                 Height_m\n",
              "Population Mean  1.144979"
            ]
          },
          "metadata": {
            "tags": []
          },
          "execution_count": 691
        }
      ]
    },
    {
      "cell_type": "markdown",
      "metadata": {
        "id": "QoNBaISByBug"
      },
      "source": [
        "# **Bootstrap**\n",
        "---\n"
      ]
    },
    {
      "cell_type": "markdown",
      "metadata": {
        "id": "Jez0SyQKyvgU"
      },
      "source": [
        "## ***Bootstrap's configuration***\n",
        "\n",
        "* ตั้งค่าการ bootstrap เพื่อหา **Confidence interval**\n",
        "> * ทำการ resampling 20000 ครั้ง (repetition = 20000)\n",
        "  * ทำการสุ่ม sample 100% จากขนาดของ Data set (sample size = 721)\n",
        "  * คำนวณหา confidence interval {90%, 95%, 99%}\n"
      ]
    },
    {
      "cell_type": "code",
      "metadata": {
        "id": "2IK2Qjfb0K_D"
      },
      "source": [
        "#Configure bootstrap\n",
        "n_iteration = 20000\n",
        "sample_ratio = 1\n",
        "n_size = int(len(df) * sample_ratio)\n",
        "CIs = [0.9, 0.95, 0.99]"
      ],
      "execution_count": 692,
      "outputs": []
    },
    {
      "cell_type": "markdown",
      "metadata": {
        "id": "FkL4We-g8DfL"
      },
      "source": [
        "## ***ทำการ Bootstrap***\n",
        "* ทำการสุ่ม bootstrap sample มา 20000 samples\n",
        "* ในแต่ละรอบการทำงานทำการสุ่มข้อมูลมาเป็น sample \n",
        "หลังจากนั้นใส่ข้อมูลนั้นกลับเข้าไป ทำจนครบ sample sizes \n",
        "(Random sampling with replacement)\n",
        "\n",
        "* เมื่อได้ bootstrap sample มาทำการคำนวณ sample mean แล้วเก็บไว้ "
      ]
    },
    {
      "cell_type": "code",
      "metadata": {
        "id": "lgkp5ZPW9Cbr"
      },
      "source": [
        "values = df[\"Height_m\"].values\n",
        "means = list()\n",
        "for _ in range(n_iteration):\n",
        "    sample = resample(values, n_samples=n_size, replace=True)\n",
        "    x_bar = np.mean(sample)\n",
        "    means.append(x_bar)"
      ],
      "execution_count": 693,
      "outputs": []
    },
    {
      "cell_type": "markdown",
      "metadata": {
        "id": "Jub-wrUMBbyX"
      },
      "source": [
        "## ***Histogram ของ Sample means***"
      ]
    },
    {
      "cell_type": "code",
      "metadata": {
        "colab": {
          "base_uri": "https://localhost:8080/",
          "height": 345
        },
        "id": "5ZFf4j9bAo7l",
        "outputId": "6a1ad5cf-96f2-4284-b1e0-24f1e071820a"
      },
      "source": [
        "fig, ax = plt.subplots(ncols=1, nrows=1, figsize=(10, 5))\n",
        "ax.hist(means)\n",
        "ax.set(title=f\"Histogram of {n_iteration} sample means\", xlabel=\"Height(m)\")\n",
        "plt.show()"
      ],
      "execution_count": 706,
      "outputs": [
        {
          "output_type": "display_data",
          "data": {
            "image/png": "[encoded data removed]",
            "text/plain": [
              "<Figure size 720x360 with 1 Axes>"
            ]
          },
          "metadata": {
            "tags": []
          }
        }
      ]
    },
    {
      "cell_type": "markdown",
      "metadata": {
        "id": "-0DqQL3eCMrm"
      },
      "source": [
        "## ***คำนวณหา Confidence interval of Mean***"
      ]
    },
    {
      "cell_type": "code",
      "metadata": {
        "colab": {
          "base_uri": "https://localhost:8080/"
        },
        "id": "bLEUo0pS-OHC",
        "outputId": "6092bb6e-7feb-4c5a-9849-cf9fe0d5c1a7"
      },
      "source": [
        "def confidence_interval(alpha: float):\n",
        "    global means\n",
        "    p = ((1.0-alpha)/2.0) * 100\n",
        "    lower =  np.percentile(means, p) \n",
        "    p = (alpha+((1.0-alpha)/2.0)) * 100\n",
        "    upper =  np.percentile(means, p) \n",
        "    return (lower, upper)\n",
        "\n",
        "Intervals = dict()\n",
        "for alpha in CIs:\n",
        "    lower, upper = confidence_interval(alpha)\n",
        "    Intervals[f\"{alpha}\"] = (lower, upper)\n",
        "    print(f\"\\n{alpha*100}% Confidence level --> interval ({lower:.3f}, {upper:.3f})\")"
      ],
      "execution_count": 695,
      "outputs": [
        {
          "output_type": "stream",
          "text": [
            "\n",
            "90.0% Confidence level --> interval (1.083, 1.212)\n",
            "\n",
            "95.0% Confidence level --> interval (1.073, 1.226)\n",
            "\n",
            "99.0% Confidence level --> interval (1.052, 1.254)\n"
          ],
          "name": "stdout"
        }
      ]
    },
    {
      "cell_type": "markdown",
      "metadata": {
        "id": "qiGpHCCnyLH0"
      },
      "source": [
        "# **Density plot**\n",
        "---"
      ]
    },
    {
      "cell_type": "markdown",
      "metadata": {
        "id": "Yka4l5_vCnCl"
      },
      "source": [
        "## ***Probability Distribution Function ของความสูง Pokemon***\n",
        "* เส้นประคือ Population mean = 1.145"
      ]
    },
    {
      "cell_type": "code",
      "metadata": {
        "id": "cf4QwTw7ep5q"
      },
      "source": [
        "def fill_color(mask, x, y, axes, color=\"blue\", alpha=0.5, verbose=False):\n",
        "    x_mask, y_mask = x[mask], y(x)[mask]\n",
        "    if verbose:\n",
        "        print(x_mask[0], x_mask[-1], y_mask[0], y_mask[-1])\n",
        "    return axes.fill_between(x_mask, y1=y_mask, alpha=alpha, facecolor=color)"
      ],
      "execution_count": 696,
      "outputs": []
    },
    {
      "cell_type": "code",
      "metadata": {
        "colab": {
          "base_uri": "https://localhost:8080/",
          "height": 345
        },
        "id": "1m76q85Cex6-",
        "outputId": "ee3a25ae-9426-49fb-b115-7e048e93a030"
      },
      "source": [
        "fig, ax = plt.subplots(ncols=1, nrows=1, figsize=(10, 5))\n",
        "y = scipy.stats.gaussian_kde(df[\"Height_m\"])\n",
        "x = np.linspace(df[\"Height_m\"].min()-1.2, df[\"Height_m\"].max() , 3000)\n",
        "ax.plot(x, y(x), color=\"black\")\n",
        "ax.set(title=\"Probability Distribution of Pokemon's Heights\", xlabel=\"Height(m)\", ylabel=\"Density\")\n",
        "bg_mask = bg_mask = (x.min() <= x) &  (x <= x.max())\n",
        "fill_color(bg_mask, x, y, ax, \"blue\", 0.7)\n",
        "mean_line_collections = ax.vlines(pop_mean, ymin=0, ymax=y(pop_mean), color=\"black\", linestyles=\"dashed\")\n",
        "mean_line_collections.set(label=f\"Population mean : {pop_mean:.3f}\")\n",
        "ax.legend(handles=[mean_line_collections])\n",
        "plt.show()"
      ],
      "execution_count": 697,
      "outputs": [
        {
          "output_type": "display_data",
          "data": {
            "image/png": "[encoded data removed]",
            "text/plain": [
              "<Figure size 720x360 with 1 Axes>"
            ]
          },
          "metadata": {
            "tags": []
          }
        }
      ]
    },
    {
      "cell_type": "markdown",
      "metadata": {
        "id": "EAifhD9UDnP5"
      },
      "source": [
        "## ***Confidence interval of Mean เมื่อนำมาระบายสีเป็นช่วง (Zoom จากภาพด้านบน)***"
      ]
    },
    {
      "cell_type": "code",
      "metadata": {
        "colab": {
          "base_uri": "https://localhost:8080/",
          "height": 338
        },
        "id": "EbDdaXfm3_7N",
        "outputId": "c67fa99f-e2f5-4a6a-eadf-492328dce777"
      },
      "source": [
        "fig, ax = plt.subplots(ncols=3, nrows=1, figsize=(25, 5))\n",
        "y = scipy.stats.gaussian_kde(df[\"Height_m\"])\n",
        "x = np.linspace(df[\"Height_m\"].min()-1.2, df[\"Height_m\"].max() , 10000)\n",
        "colors = (\"yellow\", \"green\", \"red\")\n",
        "xmin = min([x[0] for x in Intervals.values()]) - 0.1\n",
        "xmax = max([x[1] for x in Intervals.values()]) + 0.1\n",
        "Intervals_keys = [float(k) for k in Intervals.keys()]\n",
        "Intervals_values = [v for v in Intervals.values()]\n",
        "for i in range(3):  \n",
        "    ax[i].plot(x, y(x), color=\"black\")\n",
        "    ax[i].set(\n",
        "    xlim=(xmin, xmax), ylim=(0, None), xlabel=\"Height(m)\", ylabel=\"Density\",\\\n",
        "    title=f\"Probability Distribution of Pokemon's Heights --- {Intervals_keys[i] * 100}% CI({Intervals_values[i][0]:.3f}, {Intervals_values[i][1]:.3f})\"\n",
        "    )\n",
        "    bg_mask = (x.min() <= x) &  (x <= x.max())\n",
        "    fill_color(bg_mask, x, y, ax[i], \"blue\", 0.7)\n",
        "    boundary_mask = (Intervals_values[i][0] <= x) & (x <= Intervals_values[i][1])\n",
        "    CI_patch = fill_color(boundary_mask, x, y, ax[i], colors[i], 1)\n",
        "    CI_patch.set(label=f\"{Intervals_keys[i] * 100}% Confidence interval\")\n",
        "    mean_line_collections = ax[i].vlines(pop_mean, ymin=0, ymax= y(pop_mean), color=\"black\", linestyle=\"dashed\")\n",
        "    mean_line_collections.set(label=f\"Population mean : {pop_mean:.3f}\")\n",
        "    ax[i].legend(handles=[CI_patch, mean_line_collections])\n",
        "plt.show()"
      ],
      "execution_count": 698,
      "outputs": [
        {
          "output_type": "display_data",
          "data": {
            "image/png": "[encoded data removed]",
            "text/plain": [
              "<Figure size 1800x360 with 3 Axes>"
            ]
          },
          "metadata": {
            "tags": []
          }
        }
      ]
    },
    {
      "cell_type": "markdown",
      "metadata": {
        "id": "IeckQF15E0rP"
      },
      "source": [
        "# **บทวิเคราะห์ข้อมูลจากกราฟ**\n",
        "---\n",
        "จากการวิเคราะห์กราฟด้านบนทุกครั้งที่เราสุ่มตัวอย่างใหม่ค่าสถิติทั้งหมด เช่น Mean, Median รวมถึงค่า Confidence interval ก็จะเปลี่ยนไปด้วย\n",
        "\n",
        "ยกตัวอย่าง เช่น Confidence interval 95% 19 จาก 20 ครั้ง ค่า Confidence interval ที่ได้มาจะสามารถเก็บค่า Population mean อยู่ในช่วงได้ มีเพียง 1 ครั้งเท่านั้นหรือ 5% ที่ Confidence interval ไม่สามารถเก็บค่า Population mean ไว้ได้\n",
        "\n",
        "เมื่อเทียบกับ Data set ที่ได้เลือกมาวิเคราะห์ซึ่งก็คือความสูงของ Pokemon กำหนด Confidence interval มีค่า 99% และเราสุ่ม sample ของ Pokemonมา มี sample mean คือ 1.12, sd คือ 1.04, n คือ 100 เมื่อเรารู้สามอย่างนี้ของ sample ก็สามารถสร้างช่วง Confidence interval ของค่าความสูงของ Pokemon เพื่อทำ Inference กลับไปที่ประชากรได้เลย โดย Confidence interval 99% ก็คือเมื่อเราสุ่ม sample เพื่อสร้าง Confidence interval  100 samples จะสามารถเก็บ Population mean ไว้ได้ 99 samples ส่วนอีก 1 sample จะไม่สามารถเก็บ Population mean ไว้ได้"
      ]
    }
  ]
}