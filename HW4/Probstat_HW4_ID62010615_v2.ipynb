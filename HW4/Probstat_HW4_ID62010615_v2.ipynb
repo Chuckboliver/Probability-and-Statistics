{
 "cells": [
  {
   "cell_type": "code",
   "source": "import pandas as pd\nimport matplotlib.pyplot as plt\nimport seaborn as sns\nimport numpy as np\nfrom sklearn.utils import resample\nfrom collections import defaultdict\nfrom sklearn.covariance import MinCovDet\nimport scipy as sp\nfrom scipy.stats import chi2\nimport copy\n%matplotlib inline\nsns.set_theme(style=\"darkgrid\")",
   "metadata": {
    "tags": [],
    "cell_id": "00000-9db65789-2aaa-4b1d-a30c-d8137d77c06c",
    "deepnote_to_be_reexecuted": false,
    "source_hash": "45cdd853",
    "execution_start": 1620481823503,
    "execution_millis": 870,
    "deepnote_cell_type": "code"
   },
   "outputs": [],
   "execution_count": 1
  },
  {
   "cell_type": "markdown",
   "source": "# Data set\n---",
   "metadata": {
    "tags": [],
    "cell_id": "00001-c3f17a9f-a3c3-4bc0-a864-e28256112ed9",
    "deepnote_cell_type": "markdown"
   }
  },
  {
   "cell_type": "code",
   "source": "df = pd.read_csv(\"../data_set/pokemon_alopez247.csv\")\ndf = df[[\"Name\", \"Height_m\", \"Weight_kg\", \"Type_1\",  \"Body_Style\"]]\ndf",
   "metadata": {
    "tags": [],
    "cell_id": "00001-8839c46f-5967-4c71-b56d-b2685abcc6db",
    "deepnote_to_be_reexecuted": false,
    "source_hash": "7a11c400",
    "execution_start": 1620481824378,
    "execution_millis": 56,
    "deepnote_cell_type": "code"
   },
   "outputs": [
    {
     "output_type": "execute_result",
     "execution_count": 2,
     "data": {
      "application/vnd.deepnote.dataframe.v2+json": {
       "row_count": 721,
       "column_count": 5,
       "columns": [
        {
         "name": "Name",
         "dtype": "object",
         "stats": {
          "unique_count": 721,
          "nan_count": 0,
          "categories": [
           {
            "name": "Bulbasaur",
            "count": 1
           },
           {
            "name": "Ivysaur",
            "count": 1
           },
           {
            "name": "719 others",
            "count": 719
           }
          ]
         }
        },
        {
         "name": "Height_m",
         "dtype": "float64",
         "stats": {
          "unique_count": 50,
          "nan_count": 0,
          "min": "0.1",
          "max": "14.5",
          "histogram": [
           {
            "bin_start": 0.1,
            "bin_end": 1.54,
            "count": 582
           },
           {
            "bin_start": 1.54,
            "bin_end": 2.98,
            "count": 116
           },
           {
            "bin_start": 2.98,
            "bin_end": 4.42,
            "count": 11
           },
           {
            "bin_start": 4.42,
            "bin_end": 5.859999999999999,
            "count": 5
           },
           {
            "bin_start": 5.859999999999999,
            "bin_end": 7.299999999999999,
            "count": 4
           },
           {
            "bin_start": 7.299999999999999,
            "bin_end": 8.74,
            "count": 0
           },
           {
            "bin_start": 8.74,
            "bin_end": 10.18,
            "count": 2
           },
           {
            "bin_start": 10.18,
            "bin_end": 11.62,
            "count": 0
           },
           {
            "bin_start": 11.62,
            "bin_end": 13.059999999999999,
            "count": 0
           },
           {
            "bin_start": 13.059999999999999,
            "bin_end": 14.5,
            "count": 1
           }
          ]
         }
        },
        {
         "name": "Weight_kg",
         "dtype": "float64",
         "stats": {
          "unique_count": 398,
          "nan_count": 0,
          "min": "0.1",
          "max": "950.0",
          "histogram": [
           {
            "bin_start": 0.1,
            "bin_end": 95.08999999999999,
            "count": 609
           },
           {
            "bin_start": 95.08999999999999,
            "bin_end": 190.07999999999998,
            "count": 59
           },
           {
            "bin_start": 190.07999999999998,
            "bin_end": 285.07,
            "count": 29
           },
           {
            "bin_start": 285.07,
            "bin_end": 380.06,
            "count": 14
           },
           {
            "bin_start": 380.06,
            "bin_end": 475.05,
            "count": 5
           },
           {
            "bin_start": 475.05,
            "bin_end": 570.04,
            "count": 2
           },
           {
            "bin_start": 570.04,
            "bin_end": 665.03,
            "count": 1
           },
           {
            "bin_start": 665.03,
            "bin_end": 760.02,
            "count": 1
           },
           {
            "bin_start": 760.02,
            "bin_end": 855.01,
            "count": 0
           },
           {
            "bin_start": 855.01,
            "bin_end": 950,
            "count": 1
           }
          ]
         }
        },
        {
         "name": "Type_1",
         "dtype": "object",
         "stats": {
          "unique_count": 18,
          "nan_count": 0,
          "categories": [
           {
            "name": "Water",
            "count": 105
           },
           {
            "name": "Normal",
            "count": 93
           },
           {
            "name": "16 others",
            "count": 523
           }
          ]
         }
        },
        {
         "name": "Body_Style",
         "dtype": "object",
         "stats": {
          "unique_count": 14,
          "nan_count": 0,
          "categories": [
           {
            "name": "bipedal_tailed",
            "count": 158
           },
           {
            "name": "quadruped",
            "count": 135
           },
           {
            "name": "12 others",
            "count": 428
           }
          ]
         }
        },
        {
         "name": "_deepnote_index_column",
         "dtype": "int64"
        }
       ],
       "rows_top": [
        {
         "Name": "Bulbasaur",
         "Height_m": 0.71,
         "Weight_kg": 6.9,
         "Type_1": "Grass",
         "Body_Style": "quadruped",
         "_deepnote_index_column": 0
        },
        {
         "Name": "Ivysaur",
         "Height_m": 0.99,
         "Weight_kg": 13,
         "Type_1": "Grass",
         "Body_Style": "quadruped",
         "_deepnote_index_column": 1
        },
        {
         "Name": "Venusaur",
         "Height_m": 2.01,
         "Weight_kg": 100,
         "Type_1": "Grass",
         "Body_Style": "quadruped",
         "_deepnote_index_column": 2
        },
        {
         "Name": "Charmander",
         "Height_m": 0.61,
         "Weight_kg": 8.5,
         "Type_1": "Fire",
         "Body_Style": "bipedal_tailed",
         "_deepnote_index_column": 3
        },
        {
         "Name": "Charmeleon",
         "Height_m": 1.09,
         "Weight_kg": 19,
         "Type_1": "Fire",
         "Body_Style": "bipedal_tailed",
         "_deepnote_index_column": 4
        },
        {
         "Name": "Charizard",
         "Height_m": 1.7,
         "Weight_kg": 90.5,
         "Type_1": "Fire",
         "Body_Style": "bipedal_tailed",
         "_deepnote_index_column": 5
        },
        {
         "Name": "Squirtle",
         "Height_m": 0.51,
         "Weight_kg": 9,
         "Type_1": "Water",
         "Body_Style": "bipedal_tailed",
         "_deepnote_index_column": 6
        },
        {
         "Name": "Wartortle",
         "Height_m": 0.99,
         "Weight_kg": 22.5,
         "Type_1": "Water",
         "Body_Style": "bipedal_tailed",
         "_deepnote_index_column": 7
        },
        {
         "Name": "Blastoise",
         "Height_m": 1.6,
         "Weight_kg": 85.5,
         "Type_1": "Water",
         "Body_Style": "bipedal_tailed",
         "_deepnote_index_column": 8
        },
        {
         "Name": "Caterpie",
         "Height_m": 0.3,
         "Weight_kg": 2.9,
         "Type_1": "Bug",
         "Body_Style": "insectoid",
         "_deepnote_index_column": 9
        },
        {
         "Name": "Metapod",
         "Height_m": 0.71,
         "Weight_kg": 9.9,
         "Type_1": "Bug",
         "Body_Style": "serpentine_body",
         "_deepnote_index_column": 10
        },
        {
         "Name": "Butterfree",
         "Height_m": 1.09,
         "Weight_kg": 32,
         "Type_1": "Bug",
         "Body_Style": "four_wings",
         "_deepnote_index_column": 11
        },
        {
         "Name": "Weedle",
         "Height_m": 0.3,
         "Weight_kg": 3.2,
         "Type_1": "Bug",
         "Body_Style": "serpentine_body",
         "_deepnote_index_column": 12
        },
        {
         "Name": "Kakuna",
         "Height_m": 0.61,
         "Weight_kg": 10,
         "Type_1": "Bug",
         "Body_Style": "serpentine_body",
         "_deepnote_index_column": 13
        },
        {
         "Name": "Beedrill",
         "Height_m": 0.99,
         "Weight_kg": 29.5,
         "Type_1": "Bug",
         "Body_Style": "four_wings",
         "_deepnote_index_column": 14
        },
        {
         "Name": "Pidgey",
         "Height_m": 0.3,
         "Weight_kg": 1.8,
         "Type_1": "Normal",
         "Body_Style": "two_wings",
         "_deepnote_index_column": 15
        },
        {
         "Name": "Pidgeotto",
         "Height_m": 1.09,
         "Weight_kg": 30,
         "Type_1": "Normal",
         "Body_Style": "two_wings",
         "_deepnote_index_column": 16
        },
        {
         "Name": "Pidgeot",
         "Height_m": 1.5,
         "Weight_kg": 39.5,
         "Type_1": "Normal",
         "Body_Style": "two_wings",
         "_deepnote_index_column": 17
        },
        {
         "Name": "Rattata",
         "Height_m": 0.3,
         "Weight_kg": 3.5,
         "Type_1": "Normal",
         "Body_Style": "quadruped",
         "_deepnote_index_column": 18
        },
        {
         "Name": "Raticate",
         "Height_m": 0.71,
         "Weight_kg": 18.5,
         "Type_1": "Normal",
         "Body_Style": "quadruped",
         "_deepnote_index_column": 19
        },
        {
         "Name": "Spearow",
         "Height_m": 0.3,
         "Weight_kg": 2,
         "Type_1": "Normal",
         "Body_Style": "two_wings",
         "_deepnote_index_column": 20
        },
        {
         "Name": "Fearow",
         "Height_m": 1.19,
         "Weight_kg": 38,
         "Type_1": "Normal",
         "Body_Style": "two_wings",
         "_deepnote_index_column": 21
        },
        {
         "Name": "Ekans",
         "Height_m": 2.01,
         "Weight_kg": 6.9,
         "Type_1": "Poison",
         "Body_Style": "serpentine_body",
         "_deepnote_index_column": 22
        },
        {
         "Name": "Arbok",
         "Height_m": 3.51,
         "Weight_kg": 65,
         "Type_1": "Poison",
         "Body_Style": "serpentine_body",
         "_deepnote_index_column": 23
        },
        {
         "Name": "Pikachu",
         "Height_m": 0.41,
         "Weight_kg": 6,
         "Type_1": "Electric",
         "Body_Style": "quadruped",
         "_deepnote_index_column": 24
        },
        {
         "Name": "Raichu",
         "Height_m": 0.79,
         "Weight_kg": 30,
         "Type_1": "Electric",
         "Body_Style": "bipedal_tailed",
         "_deepnote_index_column": 25
        },
        {
         "Name": "Sandshrew",
         "Height_m": 0.61,
         "Weight_kg": 12,
         "Type_1": "Ground",
         "Body_Style": "bipedal_tailed",
         "_deepnote_index_column": 26
        },
        {
         "Name": "Sandslash",
         "Height_m": 0.99,
         "Weight_kg": 29.5,
         "Type_1": "Ground",
         "Body_Style": "bipedal_tailed",
         "_deepnote_index_column": 27
        },
        {
         "Name": "Nidoran♀",
         "Height_m": 0.41,
         "Weight_kg": 7,
         "Type_1": "Poison",
         "Body_Style": "quadruped",
         "_deepnote_index_column": 28
        },
        {
         "Name": "Nidorina",
         "Height_m": 0.79,
         "Weight_kg": 20,
         "Type_1": "Poison",
         "Body_Style": "quadruped",
         "_deepnote_index_column": 29
        },
        {
         "Name": "Nidoqueen",
         "Height_m": 1.3,
         "Weight_kg": 60,
         "Type_1": "Poison",
         "Body_Style": "bipedal_tailed",
         "_deepnote_index_column": 30
        },
        {
         "Name": "Nidoran♂",
         "Height_m": 0.51,
         "Weight_kg": 9,
         "Type_1": "Poison",
         "Body_Style": "quadruped",
         "_deepnote_index_column": 31
        },
        {
         "Name": "Nidorino",
         "Height_m": 0.89,
         "Weight_kg": 19.5,
         "Type_1": "Poison",
         "Body_Style": "quadruped",
         "_deepnote_index_column": 32
        },
        {
         "Name": "Nidoking",
         "Height_m": 1.4,
         "Weight_kg": 62,
         "Type_1": "Poison",
         "Body_Style": "bipedal_tailed",
         "_deepnote_index_column": 33
        },
        {
         "Name": "Clefairy",
         "Height_m": 0.61,
         "Weight_kg": 7.5,
         "Type_1": "Fairy",
         "Body_Style": "bipedal_tailed",
         "_deepnote_index_column": 34
        },
        {
         "Name": "Clefable",
         "Height_m": 1.3,
         "Weight_kg": 40,
         "Type_1": "Fairy",
         "Body_Style": "bipedal_tailed",
         "_deepnote_index_column": 35
        },
        {
         "Name": "Vulpix",
         "Height_m": 0.61,
         "Weight_kg": 9.9,
         "Type_1": "Fire",
         "Body_Style": "quadruped",
         "_deepnote_index_column": 36
        },
        {
         "Name": "Ninetales",
         "Height_m": 1.09,
         "Weight_kg": 19.9,
         "Type_1": "Fire",
         "Body_Style": "quadruped",
         "_deepnote_index_column": 37
        },
        {
         "Name": "Jigglypuff",
         "Height_m": 0.51,
         "Weight_kg": 5.5,
         "Type_1": "Normal",
         "Body_Style": "bipedal_tailless",
         "_deepnote_index_column": 38
        },
        {
         "Name": "Wigglytuff",
         "Height_m": 0.99,
         "Weight_kg": 12,
         "Type_1": "Normal",
         "Body_Style": "bipedal_tailless",
         "_deepnote_index_column": 39
        },
        {
         "Name": "Zubat",
         "Height_m": 0.79,
         "Weight_kg": 7.5,
         "Type_1": "Poison",
         "Body_Style": "two_wings",
         "_deepnote_index_column": 40
        },
        {
         "Name": "Golbat",
         "Height_m": 1.6,
         "Weight_kg": 55,
         "Type_1": "Poison",
         "Body_Style": "two_wings",
         "_deepnote_index_column": 41
        },
        {
         "Name": "Oddish",
         "Height_m": 0.51,
         "Weight_kg": 5.4,
         "Type_1": "Grass",
         "Body_Style": "head_legs",
         "_deepnote_index_column": 42
        },
        {
         "Name": "Gloom",
         "Height_m": 0.79,
         "Weight_kg": 8.6,
         "Type_1": "Grass",
         "Body_Style": "bipedal_tailless",
         "_deepnote_index_column": 43
        },
        {
         "Name": "Vileplume",
         "Height_m": 1.19,
         "Weight_kg": 18.6,
         "Type_1": "Grass",
         "Body_Style": "bipedal_tailless",
         "_deepnote_index_column": 44
        },
        {
         "Name": "Paras",
         "Height_m": 0.3,
         "Weight_kg": 5.4,
         "Type_1": "Bug",
         "Body_Style": "insectoid",
         "_deepnote_index_column": 45
        },
        {
         "Name": "Parasect",
         "Height_m": 0.99,
         "Weight_kg": 29.5,
         "Type_1": "Bug",
         "Body_Style": "insectoid",
         "_deepnote_index_column": 46
        },
        {
         "Name": "Venonat",
         "Height_m": 0.99,
         "Weight_kg": 30,
         "Type_1": "Bug",
         "Body_Style": "bipedal_tailless",
         "_deepnote_index_column": 47
        },
        {
         "Name": "Venomoth",
         "Height_m": 1.5,
         "Weight_kg": 12.5,
         "Type_1": "Bug",
         "Body_Style": "four_wings",
         "_deepnote_index_column": 48
        },
        {
         "Name": "Diglett",
         "Height_m": 0.2,
         "Weight_kg": 0.8,
         "Type_1": "Ground",
         "Body_Style": "head_base",
         "_deepnote_index_column": 49
        },
        {
         "Name": "Dugtrio",
         "Height_m": 0.71,
         "Weight_kg": 33.3,
         "Type_1": "Ground",
         "Body_Style": "multiple_bodies",
         "_deepnote_index_column": 50
        },
        {
         "Name": "Meowth",
         "Height_m": 0.41,
         "Weight_kg": 4.2,
         "Type_1": "Normal",
         "Body_Style": "quadruped",
         "_deepnote_index_column": 51
        },
        {
         "Name": "Persian",
         "Height_m": 0.99,
         "Weight_kg": 32,
         "Type_1": "Normal",
         "Body_Style": "quadruped",
         "_deepnote_index_column": 52
        },
        {
         "Name": "Psyduck",
         "Height_m": 0.79,
         "Weight_kg": 19.6,
         "Type_1": "Water",
         "Body_Style": "bipedal_tailed",
         "_deepnote_index_column": 53
        },
        {
         "Name": "Golduck",
         "Height_m": 1.7,
         "Weight_kg": 76.6,
         "Type_1": "Water",
         "Body_Style": "bipedal_tailed",
         "_deepnote_index_column": 54
        },
        {
         "Name": "Mankey",
         "Height_m": 0.51,
         "Weight_kg": 28,
         "Type_1": "Fighting",
         "Body_Style": "bipedal_tailed",
         "_deepnote_index_column": 55
        },
        {
         "Name": "Primeape",
         "Height_m": 0.99,
         "Weight_kg": 32,
         "Type_1": "Fighting",
         "Body_Style": "bipedal_tailed",
         "_deepnote_index_column": 56
        },
        {
         "Name": "Growlithe",
         "Height_m": 0.71,
         "Weight_kg": 19,
         "Type_1": "Fire",
         "Body_Style": "quadruped",
         "_deepnote_index_column": 57
        },
        {
         "Name": "Arcanine",
         "Height_m": 1.91,
         "Weight_kg": 155,
         "Type_1": "Fire",
         "Body_Style": "quadruped",
         "_deepnote_index_column": 58
        },
        {
         "Name": "Poliwag",
         "Height_m": 0.61,
         "Weight_kg": 12.4,
         "Type_1": "Water",
         "Body_Style": "head_legs",
         "_deepnote_index_column": 59
        },
        {
         "Name": "Poliwhirl",
         "Height_m": 0.99,
         "Weight_kg": 20,
         "Type_1": "Water",
         "Body_Style": "bipedal_tailless",
         "_deepnote_index_column": 60
        },
        {
         "Name": "Poliwrath",
         "Height_m": 1.3,
         "Weight_kg": 54,
         "Type_1": "Water",
         "Body_Style": "bipedal_tailless",
         "_deepnote_index_column": 61
        },
        {
         "Name": "Abra",
         "Height_m": 0.89,
         "Weight_kg": 19.5,
         "Type_1": "Psychic",
         "Body_Style": "bipedal_tailed",
         "_deepnote_index_column": 62
        },
        {
         "Name": "Kadabra",
         "Height_m": 1.3,
         "Weight_kg": 56.5,
         "Type_1": "Psychic",
         "Body_Style": "bipedal_tailed",
         "_deepnote_index_column": 63
        },
        {
         "Name": "Alakazam",
         "Height_m": 1.5,
         "Weight_kg": 48,
         "Type_1": "Psychic",
         "Body_Style": "bipedal_tailless",
         "_deepnote_index_column": 64
        },
        {
         "Name": "Machop",
         "Height_m": 0.79,
         "Weight_kg": 19.5,
         "Type_1": "Fighting",
         "Body_Style": "bipedal_tailed",
         "_deepnote_index_column": 65
        },
        {
         "Name": "Machoke",
         "Height_m": 1.5,
         "Weight_kg": 70.5,
         "Type_1": "Fighting",
         "Body_Style": "bipedal_tailless",
         "_deepnote_index_column": 66
        },
        {
         "Name": "Machamp",
         "Height_m": 1.6,
         "Weight_kg": 130,
         "Type_1": "Fighting",
         "Body_Style": "bipedal_tailless",
         "_deepnote_index_column": 67
        },
        {
         "Name": "Bellsprout",
         "Height_m": 0.71,
         "Weight_kg": 4,
         "Type_1": "Grass",
         "Body_Style": "bipedal_tailless",
         "_deepnote_index_column": 68
        },
        {
         "Name": "Weepinbell",
         "Height_m": 0.99,
         "Weight_kg": 6.4,
         "Type_1": "Grass",
         "Body_Style": "head_base",
         "_deepnote_index_column": 69
        },
        {
         "Name": "Victreebel",
         "Height_m": 1.7,
         "Weight_kg": 15.5,
         "Type_1": "Grass",
         "Body_Style": "head_base",
         "_deepnote_index_column": 70
        },
        {
         "Name": "Tentacool",
         "Height_m": 0.89,
         "Weight_kg": 45.5,
         "Type_1": "Water",
         "Body_Style": "several_limbs",
         "_deepnote_index_column": 71
        },
        {
         "Name": "Tentacruel",
         "Height_m": 1.6,
         "Weight_kg": 55,
         "Type_1": "Water",
         "Body_Style": "several_limbs",
         "_deepnote_index_column": 72
        },
        {
         "Name": "Geodude",
         "Height_m": 0.41,
         "Weight_kg": 20,
         "Type_1": "Rock",
         "Body_Style": "head_arms",
         "_deepnote_index_column": 73
        },
        {
         "Name": "Graveler",
         "Height_m": 0.99,
         "Weight_kg": 105,
         "Type_1": "Rock",
         "Body_Style": "bipedal_tailless",
         "_deepnote_index_column": 74
        },
        {
         "Name": "Golem",
         "Height_m": 1.4,
         "Weight_kg": 300,
         "Type_1": "Rock",
         "Body_Style": "bipedal_tailless",
         "_deepnote_index_column": 75
        },
        {
         "Name": "Ponyta",
         "Height_m": 0.99,
         "Weight_kg": 30,
         "Type_1": "Fire",
         "Body_Style": "quadruped",
         "_deepnote_index_column": 76
        },
        {
         "Name": "Rapidash",
         "Height_m": 1.7,
         "Weight_kg": 95,
         "Type_1": "Fire",
         "Body_Style": "quadruped",
         "_deepnote_index_column": 77
        },
        {
         "Name": "Slowpoke",
         "Height_m": 1.19,
         "Weight_kg": 36,
         "Type_1": "Water",
         "Body_Style": "quadruped",
         "_deepnote_index_column": 78
        },
        {
         "Name": "Slowbro",
         "Height_m": 1.6,
         "Weight_kg": 78.5,
         "Type_1": "Water",
         "Body_Style": "bipedal_tailed",
         "_deepnote_index_column": 79
        },
        {
         "Name": "Magnemite",
         "Height_m": 0.3,
         "Weight_kg": 6,
         "Type_1": "Electric",
         "Body_Style": "head_arms",
         "_deepnote_index_column": 80
        },
        {
         "Name": "Magneton",
         "Height_m": 0.99,
         "Weight_kg": 60,
         "Type_1": "Electric",
         "Body_Style": "multiple_bodies",
         "_deepnote_index_column": 81
        },
        {
         "Name": "Farfetch'd",
         "Height_m": 0.79,
         "Weight_kg": 15,
         "Type_1": "Normal",
         "Body_Style": "two_wings",
         "_deepnote_index_column": 82
        },
        {
         "Name": "Doduo",
         "Height_m": 1.4,
         "Weight_kg": 39.2,
         "Type_1": "Normal",
         "Body_Style": "head_legs",
         "_deepnote_index_column": 83
        },
        {
         "Name": "Dodrio",
         "Height_m": 1.8,
         "Weight_kg": 85.2,
         "Type_1": "Normal",
         "Body_Style": "head_legs",
         "_deepnote_index_column": 84
        },
        {
         "Name": "Seel",
         "Height_m": 1.09,
         "Weight_kg": 90,
         "Type_1": "Water",
         "Body_Style": "with_fins",
         "_deepnote_index_column": 85
        },
        {
         "Name": "Dewgong",
         "Height_m": 1.7,
         "Weight_kg": 120,
         "Type_1": "Water",
         "Body_Style": "with_fins",
         "_deepnote_index_column": 86
        },
        {
         "Name": "Grimer",
         "Height_m": 0.89,
         "Weight_kg": 30,
         "Type_1": "Poison",
         "Body_Style": "head_arms",
         "_deepnote_index_column": 87
        },
        {
         "Name": "Muk",
         "Height_m": 1.19,
         "Weight_kg": 30,
         "Type_1": "Poison",
         "Body_Style": "head_arms",
         "_deepnote_index_column": 88
        },
        {
         "Name": "Shellder",
         "Height_m": 0.3,
         "Weight_kg": 4,
         "Type_1": "Water",
         "Body_Style": "head_only",
         "_deepnote_index_column": 89
        },
        {
         "Name": "Cloyster",
         "Height_m": 1.5,
         "Weight_kg": 132.5,
         "Type_1": "Water",
         "Body_Style": "head_only",
         "_deepnote_index_column": 90
        },
        {
         "Name": "Gastly",
         "Height_m": 1.3,
         "Weight_kg": 0.1,
         "Type_1": "Ghost",
         "Body_Style": "head_only",
         "_deepnote_index_column": 91
        },
        {
         "Name": "Haunter",
         "Height_m": 1.6,
         "Weight_kg": 0.1,
         "Type_1": "Ghost",
         "Body_Style": "head_arms",
         "_deepnote_index_column": 92
        },
        {
         "Name": "Gengar",
         "Height_m": 1.5,
         "Weight_kg": 40.5,
         "Type_1": "Ghost",
         "Body_Style": "bipedal_tailed",
         "_deepnote_index_column": 93
        },
        {
         "Name": "Onix",
         "Height_m": 8.79,
         "Weight_kg": 210,
         "Type_1": "Rock",
         "Body_Style": "serpentine_body",
         "_deepnote_index_column": 94
        },
        {
         "Name": "Drowzee",
         "Height_m": 0.99,
         "Weight_kg": 32.4,
         "Type_1": "Psychic",
         "Body_Style": "bipedal_tailless",
         "_deepnote_index_column": 95
        },
        {
         "Name": "Hypno",
         "Height_m": 1.6,
         "Weight_kg": 75.6,
         "Type_1": "Psychic",
         "Body_Style": "bipedal_tailless",
         "_deepnote_index_column": 96
        },
        {
         "Name": "Krabby",
         "Height_m": 0.41,
         "Weight_kg": 6.5,
         "Type_1": "Water",
         "Body_Style": "insectoid",
         "_deepnote_index_column": 97
        },
        {
         "Name": "Kingler",
         "Height_m": 1.3,
         "Weight_kg": 60,
         "Type_1": "Water",
         "Body_Style": "insectoid",
         "_deepnote_index_column": 98
        },
        {
         "Name": "Voltorb",
         "Height_m": 0.51,
         "Weight_kg": 10.4,
         "Type_1": "Electric",
         "Body_Style": "head_only",
         "_deepnote_index_column": 99
        }
       ],
       "rows_bottom": [
        {
         "Name": "Golett",
         "Height_m": 0.99,
         "Weight_kg": 92,
         "Type_1": "Ground",
         "Body_Style": "bipedal_tailless",
         "_deepnote_index_column": 621
        },
        {
         "Name": "Golurk",
         "Height_m": 2.79,
         "Weight_kg": 330,
         "Type_1": "Ground",
         "Body_Style": "bipedal_tailless",
         "_deepnote_index_column": 622
        },
        {
         "Name": "Pawniard",
         "Height_m": 0.51,
         "Weight_kg": 10.2,
         "Type_1": "Dark",
         "Body_Style": "bipedal_tailless",
         "_deepnote_index_column": 623
        },
        {
         "Name": "Bisharp",
         "Height_m": 1.6,
         "Weight_kg": 70,
         "Type_1": "Dark",
         "Body_Style": "bipedal_tailless",
         "_deepnote_index_column": 624
        },
        {
         "Name": "Bouffalant",
         "Height_m": 1.6,
         "Weight_kg": 94.6,
         "Type_1": "Normal",
         "Body_Style": "quadruped",
         "_deepnote_index_column": 625
        },
        {
         "Name": "Rufflet",
         "Height_m": 0.51,
         "Weight_kg": 10.5,
         "Type_1": "Normal",
         "Body_Style": "two_wings",
         "_deepnote_index_column": 626
        },
        {
         "Name": "Braviary",
         "Height_m": 1.5,
         "Weight_kg": 41,
         "Type_1": "Normal",
         "Body_Style": "two_wings",
         "_deepnote_index_column": 627
        },
        {
         "Name": "Vullaby",
         "Height_m": 0.51,
         "Weight_kg": 9,
         "Type_1": "Dark",
         "Body_Style": "two_wings",
         "_deepnote_index_column": 628
        },
        {
         "Name": "Mandibuzz",
         "Height_m": 1.19,
         "Weight_kg": 39.5,
         "Type_1": "Dark",
         "Body_Style": "two_wings",
         "_deepnote_index_column": 629
        },
        {
         "Name": "Heatmor",
         "Height_m": 1.4,
         "Weight_kg": 58,
         "Type_1": "Fire",
         "Body_Style": "bipedal_tailed",
         "_deepnote_index_column": 630
        },
        {
         "Name": "Durant",
         "Height_m": 0.3,
         "Weight_kg": 33,
         "Type_1": "Bug",
         "Body_Style": "insectoid",
         "_deepnote_index_column": 631
        },
        {
         "Name": "Deino",
         "Height_m": 0.79,
         "Weight_kg": 17.3,
         "Type_1": "Dark",
         "Body_Style": "quadruped",
         "_deepnote_index_column": 632
        },
        {
         "Name": "Zweilous",
         "Height_m": 1.4,
         "Weight_kg": 50,
         "Type_1": "Dark",
         "Body_Style": "quadruped",
         "_deepnote_index_column": 633
        },
        {
         "Name": "Hydreigon",
         "Height_m": 1.8,
         "Weight_kg": 160,
         "Type_1": "Dark",
         "Body_Style": "bipedal_tailed",
         "_deepnote_index_column": 634
        },
        {
         "Name": "Larvesta",
         "Height_m": 1.09,
         "Weight_kg": 28.8,
         "Type_1": "Bug",
         "Body_Style": "insectoid",
         "_deepnote_index_column": 635
        },
        {
         "Name": "Volcarona",
         "Height_m": 1.6,
         "Weight_kg": 46,
         "Type_1": "Bug",
         "Body_Style": "four_wings",
         "_deepnote_index_column": 636
        },
        {
         "Name": "Cobalion",
         "Height_m": 2.11,
         "Weight_kg": 250,
         "Type_1": "Steel",
         "Body_Style": "quadruped",
         "_deepnote_index_column": 637
        },
        {
         "Name": "Terrakion",
         "Height_m": 1.91,
         "Weight_kg": 260,
         "Type_1": "Rock",
         "Body_Style": "quadruped",
         "_deepnote_index_column": 638
        },
        {
         "Name": "Virizion",
         "Height_m": 2.01,
         "Weight_kg": 200,
         "Type_1": "Grass",
         "Body_Style": "quadruped",
         "_deepnote_index_column": 639
        },
        {
         "Name": "Tornadus",
         "Height_m": 1.5,
         "Weight_kg": 63,
         "Type_1": "Flying",
         "Body_Style": "head_arms",
         "_deepnote_index_column": 640
        },
        {
         "Name": "Thundurus",
         "Height_m": 1.5,
         "Weight_kg": 61,
         "Type_1": "Electric",
         "Body_Style": "head_arms",
         "_deepnote_index_column": 641
        },
        {
         "Name": "Reshiram",
         "Height_m": 3.2,
         "Weight_kg": 330,
         "Type_1": "Dragon",
         "Body_Style": "two_wings",
         "_deepnote_index_column": 642
        },
        {
         "Name": "Zekrom",
         "Height_m": 2.9,
         "Weight_kg": 345,
         "Type_1": "Dragon",
         "Body_Style": "bipedal_tailed",
         "_deepnote_index_column": 643
        },
        {
         "Name": "Landorus",
         "Height_m": 1.5,
         "Weight_kg": 68,
         "Type_1": "Ground",
         "Body_Style": "head_arms",
         "_deepnote_index_column": 644
        },
        {
         "Name": "Kyurem",
         "Height_m": 3,
         "Weight_kg": 325,
         "Type_1": "Dragon",
         "Body_Style": "bipedal_tailed",
         "_deepnote_index_column": 645
        },
        {
         "Name": "Keldeo",
         "Height_m": 1.4,
         "Weight_kg": 48.5,
         "Type_1": "Water",
         "Body_Style": "quadruped",
         "_deepnote_index_column": 646
        },
        {
         "Name": "Meloetta",
         "Height_m": 0.61,
         "Weight_kg": 6.5,
         "Type_1": "Normal",
         "Body_Style": "bipedal_tailless",
         "_deepnote_index_column": 647
        },
        {
         "Name": "Genesect",
         "Height_m": 1.5,
         "Weight_kg": 82.5,
         "Type_1": "Bug",
         "Body_Style": "bipedal_tailless",
         "_deepnote_index_column": 648
        },
        {
         "Name": "Chespin",
         "Height_m": 0.41,
         "Weight_kg": 9,
         "Type_1": "Grass",
         "Body_Style": "bipedal_tailed",
         "_deepnote_index_column": 649
        },
        {
         "Name": "Quilladin",
         "Height_m": 0.71,
         "Weight_kg": 29,
         "Type_1": "Grass",
         "Body_Style": "bipedal_tailed",
         "_deepnote_index_column": 650
        },
        {
         "Name": "Chesnaught",
         "Height_m": 1.6,
         "Weight_kg": 90,
         "Type_1": "Grass",
         "Body_Style": "bipedal_tailed",
         "_deepnote_index_column": 651
        },
        {
         "Name": "Fennekin",
         "Height_m": 0.41,
         "Weight_kg": 9.4,
         "Type_1": "Fire",
         "Body_Style": "quadruped",
         "_deepnote_index_column": 652
        },
        {
         "Name": "Braixen",
         "Height_m": 0.99,
         "Weight_kg": 14.5,
         "Type_1": "Fire",
         "Body_Style": "bipedal_tailed",
         "_deepnote_index_column": 653
        },
        {
         "Name": "Delphox",
         "Height_m": 1.5,
         "Weight_kg": 39,
         "Type_1": "Fire",
         "Body_Style": "bipedal_tailed",
         "_deepnote_index_column": 654
        },
        {
         "Name": "Froakie",
         "Height_m": 0.3,
         "Weight_kg": 7,
         "Type_1": "Water",
         "Body_Style": "quadruped",
         "_deepnote_index_column": 655
        },
        {
         "Name": "Frogadier",
         "Height_m": 0.61,
         "Weight_kg": 10.9,
         "Type_1": "Water",
         "Body_Style": "bipedal_tailless",
         "_deepnote_index_column": 656
        },
        {
         "Name": "Greninja",
         "Height_m": 1.5,
         "Weight_kg": 40,
         "Type_1": "Water",
         "Body_Style": "bipedal_tailless",
         "_deepnote_index_column": 657
        },
        {
         "Name": "Bunnelby",
         "Height_m": 0.41,
         "Weight_kg": 5,
         "Type_1": "Normal",
         "Body_Style": "bipedal_tailed",
         "_deepnote_index_column": 658
        },
        {
         "Name": "Diggersby",
         "Height_m": 0.99,
         "Weight_kg": 42.4,
         "Type_1": "Normal",
         "Body_Style": "bipedal_tailed",
         "_deepnote_index_column": 659
        },
        {
         "Name": "Fletchling",
         "Height_m": 0.3,
         "Weight_kg": 1.7,
         "Type_1": "Normal",
         "Body_Style": "two_wings",
         "_deepnote_index_column": 660
        },
        {
         "Name": "Fletchinder",
         "Height_m": 0.71,
         "Weight_kg": 16,
         "Type_1": "Fire",
         "Body_Style": "two_wings",
         "_deepnote_index_column": 661
        },
        {
         "Name": "Talonflame",
         "Height_m": 1.19,
         "Weight_kg": 24.5,
         "Type_1": "Fire",
         "Body_Style": "two_wings",
         "_deepnote_index_column": 662
        },
        {
         "Name": "Scatterbug",
         "Height_m": 0.3,
         "Weight_kg": 2.5,
         "Type_1": "Bug",
         "Body_Style": "insectoid",
         "_deepnote_index_column": 663
        },
        {
         "Name": "Spewpa",
         "Height_m": 0.3,
         "Weight_kg": 8.4,
         "Type_1": "Bug",
         "Body_Style": "head_base",
         "_deepnote_index_column": 664
        },
        {
         "Name": "Vivillon",
         "Height_m": 1.19,
         "Weight_kg": 17,
         "Type_1": "Bug",
         "Body_Style": "four_wings",
         "_deepnote_index_column": 665
        },
        {
         "Name": "Litleo",
         "Height_m": 0.61,
         "Weight_kg": 13.5,
         "Type_1": "Fire",
         "Body_Style": "quadruped",
         "_deepnote_index_column": 666
        },
        {
         "Name": "Pyroar",
         "Height_m": 1.5,
         "Weight_kg": 81.5,
         "Type_1": "Fire",
         "Body_Style": "quadruped",
         "_deepnote_index_column": 667
        },
        {
         "Name": "Flabébé",
         "Height_m": 0.1,
         "Weight_kg": 0.1,
         "Type_1": "Fairy",
         "Body_Style": "head_arms",
         "_deepnote_index_column": 668
        },
        {
         "Name": "Floette",
         "Height_m": 0.2,
         "Weight_kg": 0.9,
         "Type_1": "Fairy",
         "Body_Style": "head_arms",
         "_deepnote_index_column": 669
        },
        {
         "Name": "Florges",
         "Height_m": 1.09,
         "Weight_kg": 10,
         "Type_1": "Fairy",
         "Body_Style": "head_arms",
         "_deepnote_index_column": 670
        },
        {
         "Name": "Skiddo",
         "Height_m": 0.89,
         "Weight_kg": 31,
         "Type_1": "Grass",
         "Body_Style": "quadruped",
         "_deepnote_index_column": 671
        },
        {
         "Name": "Gogoat",
         "Height_m": 1.7,
         "Weight_kg": 91,
         "Type_1": "Grass",
         "Body_Style": "quadruped",
         "_deepnote_index_column": 672
        },
        {
         "Name": "Pancham",
         "Height_m": 0.61,
         "Weight_kg": 8,
         "Type_1": "Fighting",
         "Body_Style": "bipedal_tailed",
         "_deepnote_index_column": 673
        },
        {
         "Name": "Pangoro",
         "Height_m": 2.11,
         "Weight_kg": 136,
         "Type_1": "Fighting",
         "Body_Style": "bipedal_tailless",
         "_deepnote_index_column": 674
        },
        {
         "Name": "Furfrou",
         "Height_m": 1.19,
         "Weight_kg": 28,
         "Type_1": "Normal",
         "Body_Style": "quadruped",
         "_deepnote_index_column": 675
        },
        {
         "Name": "Espurr",
         "Height_m": 0.3,
         "Weight_kg": 3.5,
         "Type_1": "Psychic",
         "Body_Style": "bipedal_tailed",
         "_deepnote_index_column": 676
        },
        {
         "Name": "Meowstic",
         "Height_m": 0.61,
         "Weight_kg": 8.5,
         "Type_1": "Psychic",
         "Body_Style": "bipedal_tailed",
         "_deepnote_index_column": 677
        },
        {
         "Name": "Honedge",
         "Height_m": 0.79,
         "Weight_kg": 2,
         "Type_1": "Steel",
         "Body_Style": "head_base",
         "_deepnote_index_column": 678
        },
        {
         "Name": "Doublade",
         "Height_m": 0.84,
         "Weight_kg": 4.5,
         "Type_1": "Steel",
         "Body_Style": "multiple_bodies",
         "_deepnote_index_column": 679
        },
        {
         "Name": "Aegislash",
         "Height_m": 1.7,
         "Weight_kg": 53,
         "Type_1": "Steel",
         "Body_Style": "head_base",
         "_deepnote_index_column": 680
        },
        {
         "Name": "Spritzee",
         "Height_m": 0.2,
         "Weight_kg": 0.5,
         "Type_1": "Fairy",
         "Body_Style": "head_arms",
         "_deepnote_index_column": 681
        },
        {
         "Name": "Aromatisse",
         "Height_m": 0.79,
         "Weight_kg": 15.5,
         "Type_1": "Fairy",
         "Body_Style": "bipedal_tailless",
         "_deepnote_index_column": 682
        },
        {
         "Name": "Swirlix",
         "Height_m": 0.41,
         "Weight_kg": 3.5,
         "Type_1": "Fairy",
         "Body_Style": "head_legs",
         "_deepnote_index_column": 683
        },
        {
         "Name": "Slurpuff",
         "Height_m": 0.79,
         "Weight_kg": 5,
         "Type_1": "Fairy",
         "Body_Style": "bipedal_tailless",
         "_deepnote_index_column": 684
        },
        {
         "Name": "Inkay",
         "Height_m": 0.41,
         "Weight_kg": 3.5,
         "Type_1": "Dark",
         "Body_Style": "several_limbs",
         "_deepnote_index_column": 685
        },
        {
         "Name": "Malamar",
         "Height_m": 1.5,
         "Weight_kg": 47,
         "Type_1": "Dark",
         "Body_Style": "head_base",
         "_deepnote_index_column": 686
        },
        {
         "Name": "Binacle",
         "Height_m": 0.51,
         "Weight_kg": 31,
         "Type_1": "Rock",
         "Body_Style": "multiple_bodies",
         "_deepnote_index_column": 687
        },
        {
         "Name": "Barbaracle",
         "Height_m": 1.3,
         "Weight_kg": 96,
         "Type_1": "Rock",
         "Body_Style": "multiple_bodies",
         "_deepnote_index_column": 688
        },
        {
         "Name": "Skrelp",
         "Height_m": 0.51,
         "Weight_kg": 7.3,
         "Type_1": "Poison",
         "Body_Style": "head_base",
         "_deepnote_index_column": 689
        },
        {
         "Name": "Dragalge",
         "Height_m": 1.8,
         "Weight_kg": 81.5,
         "Type_1": "Poison",
         "Body_Style": "head_base",
         "_deepnote_index_column": 690
        },
        {
         "Name": "Clauncher",
         "Height_m": 0.51,
         "Weight_kg": 8.3,
         "Type_1": "Water",
         "Body_Style": "insectoid",
         "_deepnote_index_column": 691
        },
        {
         "Name": "Clawitzer",
         "Height_m": 1.3,
         "Weight_kg": 35.3,
         "Type_1": "Water",
         "Body_Style": "serpentine_body",
         "_deepnote_index_column": 692
        },
        {
         "Name": "Helioptile",
         "Height_m": 0.51,
         "Weight_kg": 6,
         "Type_1": "Electric",
         "Body_Style": "bipedal_tailed",
         "_deepnote_index_column": 693
        },
        {
         "Name": "Heliolisk",
         "Height_m": 0.99,
         "Weight_kg": 21,
         "Type_1": "Electric",
         "Body_Style": "bipedal_tailed",
         "_deepnote_index_column": 694
        },
        {
         "Name": "Tyrunt",
         "Height_m": 0.79,
         "Weight_kg": 26,
         "Type_1": "Rock",
         "Body_Style": "bipedal_tailed",
         "_deepnote_index_column": 695
        },
        {
         "Name": "Tyrantrum",
         "Height_m": 2.49,
         "Weight_kg": 270,
         "Type_1": "Rock",
         "Body_Style": "bipedal_tailed",
         "_deepnote_index_column": 696
        },
        {
         "Name": "Amaura",
         "Height_m": 1.3,
         "Weight_kg": 25.2,
         "Type_1": "Rock",
         "Body_Style": "quadruped",
         "_deepnote_index_column": 697
        },
        {
         "Name": "Aurorus",
         "Height_m": 2.69,
         "Weight_kg": 225,
         "Type_1": "Rock",
         "Body_Style": "quadruped",
         "_deepnote_index_column": 698
        },
        {
         "Name": "Sylveon",
         "Height_m": 0.99,
         "Weight_kg": 23.5,
         "Type_1": "Fairy",
         "Body_Style": "quadruped",
         "_deepnote_index_column": 699
        },
        {
         "Name": "Hawlucha",
         "Height_m": 0.79,
         "Weight_kg": 21.5,
         "Type_1": "Fighting",
         "Body_Style": "bipedal_tailless",
         "_deepnote_index_column": 700
        },
        {
         "Name": "Dedenne",
         "Height_m": 0.2,
         "Weight_kg": 2.2,
         "Type_1": "Electric",
         "Body_Style": "bipedal_tailed",
         "_deepnote_index_column": 701
        },
        {
         "Name": "Carbink",
         "Height_m": 0.3,
         "Weight_kg": 5.7,
         "Type_1": "Rock",
         "Body_Style": "head_only",
         "_deepnote_index_column": 702
        },
        {
         "Name": "Goomy",
         "Height_m": 0.3,
         "Weight_kg": 2.8,
         "Type_1": "Dragon",
         "Body_Style": "serpentine_body",
         "_deepnote_index_column": 703
        },
        {
         "Name": "Sliggoo",
         "Height_m": 0.79,
         "Weight_kg": 17.5,
         "Type_1": "Dragon",
         "Body_Style": "serpentine_body",
         "_deepnote_index_column": 704
        },
        {
         "Name": "Goodra",
         "Height_m": 2.01,
         "Weight_kg": 150.5,
         "Type_1": "Dragon",
         "Body_Style": "bipedal_tailed",
         "_deepnote_index_column": 705
        },
        {
         "Name": "Klefki",
         "Height_m": 0.2,
         "Weight_kg": 3,
         "Type_1": "Steel",
         "Body_Style": "head_only",
         "_deepnote_index_column": 706
        },
        {
         "Name": "Phantump",
         "Height_m": 0.41,
         "Weight_kg": 7,
         "Type_1": "Ghost",
         "Body_Style": "head_arms",
         "_deepnote_index_column": 707
        },
        {
         "Name": "Trevenant",
         "Height_m": 1.5,
         "Weight_kg": 71,
         "Type_1": "Ghost",
         "Body_Style": "several_limbs",
         "_deepnote_index_column": 708
        },
        {
         "Name": "Pumpkaboo",
         "Height_m": 0.41,
         "Weight_kg": 5,
         "Type_1": "Ghost",
         "Body_Style": "head_only",
         "_deepnote_index_column": 709
        },
        {
         "Name": "Gourgeist",
         "Height_m": 1.7,
         "Weight_kg": 39,
         "Type_1": "Ghost",
         "Body_Style": "head_base",
         "_deepnote_index_column": 710
        },
        {
         "Name": "Bergmite",
         "Height_m": 0.99,
         "Weight_kg": 99.5,
         "Type_1": "Ice",
         "Body_Style": "quadruped",
         "_deepnote_index_column": 711
        },
        {
         "Name": "Avalugg",
         "Height_m": 2.01,
         "Weight_kg": 505,
         "Type_1": "Ice",
         "Body_Style": "quadruped",
         "_deepnote_index_column": 712
        },
        {
         "Name": "Noibat",
         "Height_m": 0.51,
         "Weight_kg": 8,
         "Type_1": "Flying",
         "Body_Style": "two_wings",
         "_deepnote_index_column": 713
        },
        {
         "Name": "Noivern",
         "Height_m": 1.5,
         "Weight_kg": 85,
         "Type_1": "Flying",
         "Body_Style": "two_wings",
         "_deepnote_index_column": 714
        },
        {
         "Name": "Xerneas",
         "Height_m": 3,
         "Weight_kg": 215,
         "Type_1": "Fairy",
         "Body_Style": "quadruped",
         "_deepnote_index_column": 715
        },
        {
         "Name": "Yveltal",
         "Height_m": 5.79,
         "Weight_kg": 203,
         "Type_1": "Dark",
         "Body_Style": "two_wings",
         "_deepnote_index_column": 716
        },
        {
         "Name": "Zygarde",
         "Height_m": 5,
         "Weight_kg": 305,
         "Type_1": "Dragon",
         "Body_Style": "serpentine_body",
         "_deepnote_index_column": 717
        },
        {
         "Name": "Diancie",
         "Height_m": 0.71,
         "Weight_kg": 8.8,
         "Type_1": "Rock",
         "Body_Style": "head_arms",
         "_deepnote_index_column": 718
        },
        {
         "Name": "Hoopa",
         "Height_m": 0.51,
         "Weight_kg": 9,
         "Type_1": "Psychic",
         "Body_Style": "head_only",
         "_deepnote_index_column": 719
        },
        {
         "Name": "Volcanion",
         "Height_m": 1.7,
         "Weight_kg": 195,
         "Type_1": "Fire",
         "Body_Style": "quadruped",
         "_deepnote_index_column": 720
        }
       ]
      },
      "text/plain": "           Name  Height_m  Weight_kg   Type_1       Body_Style\n0     Bulbasaur      0.71        6.9    Grass        quadruped\n1       Ivysaur      0.99       13.0    Grass        quadruped\n2      Venusaur      2.01      100.0    Grass        quadruped\n3    Charmander      0.61        8.5     Fire   bipedal_tailed\n4    Charmeleon      1.09       19.0     Fire   bipedal_tailed\n..          ...       ...        ...      ...              ...\n716     Yveltal      5.79      203.0     Dark        two_wings\n717     Zygarde      5.00      305.0   Dragon  serpentine_body\n718     Diancie      0.71        8.8     Rock        head_arms\n719       Hoopa      0.51        9.0  Psychic        head_only\n720   Volcanion      1.70      195.0     Fire        quadruped\n\n[721 rows x 5 columns]",
      "text/html": "<div>\n<style scoped>\n    .dataframe tbody tr th:only-of-type {\n        vertical-align: middle;\n    }\n\n    .dataframe tbody tr th {\n        vertical-align: top;\n    }\n\n    .dataframe thead th {\n        text-align: right;\n    }\n</style>\n<table border=\"1\" class=\"dataframe\">\n  <thead>\n    <tr style=\"text-align: right;\">\n      <th></th>\n      <th>Name</th>\n      <th>Height_m</th>\n      <th>Weight_kg</th>\n      <th>Type_1</th>\n      <th>Body_Style</th>\n    </tr>\n  </thead>\n  <tbody>\n    <tr>\n      <th>0</th>\n      <td>Bulbasaur</td>\n      <td>0.71</td>\n      <td>6.9</td>\n      <td>Grass</td>\n      <td>quadruped</td>\n    </tr>\n    <tr>\n      <th>1</th>\n      <td>Ivysaur</td>\n      <td>0.99</td>\n      <td>13.0</td>\n      <td>Grass</td>\n      <td>quadruped</td>\n    </tr>\n    <tr>\n      <th>2</th>\n      <td>Venusaur</td>\n      <td>2.01</td>\n      <td>100.0</td>\n      <td>Grass</td>\n      <td>quadruped</td>\n    </tr>\n    <tr>\n      <th>3</th>\n      <td>Charmander</td>\n      <td>0.61</td>\n      <td>8.5</td>\n      <td>Fire</td>\n      <td>bipedal_tailed</td>\n    </tr>\n    <tr>\n      <th>4</th>\n      <td>Charmeleon</td>\n      <td>1.09</td>\n      <td>19.0</td>\n      <td>Fire</td>\n      <td>bipedal_tailed</td>\n    </tr>\n    <tr>\n      <th>...</th>\n      <td>...</td>\n      <td>...</td>\n      <td>...</td>\n      <td>...</td>\n      <td>...</td>\n    </tr>\n    <tr>\n      <th>716</th>\n      <td>Yveltal</td>\n      <td>5.79</td>\n      <td>203.0</td>\n      <td>Dark</td>\n      <td>two_wings</td>\n    </tr>\n    <tr>\n      <th>717</th>\n      <td>Zygarde</td>\n      <td>5.00</td>\n      <td>305.0</td>\n      <td>Dragon</td>\n      <td>serpentine_body</td>\n    </tr>\n    <tr>\n      <th>718</th>\n      <td>Diancie</td>\n      <td>0.71</td>\n      <td>8.8</td>\n      <td>Rock</td>\n      <td>head_arms</td>\n    </tr>\n    <tr>\n      <th>719</th>\n      <td>Hoopa</td>\n      <td>0.51</td>\n      <td>9.0</td>\n      <td>Psychic</td>\n      <td>head_only</td>\n    </tr>\n    <tr>\n      <th>720</th>\n      <td>Volcanion</td>\n      <td>1.70</td>\n      <td>195.0</td>\n      <td>Fire</td>\n      <td>quadruped</td>\n    </tr>\n  </tbody>\n</table>\n<p>721 rows × 5 columns</p>\n</div>"
     },
     "metadata": {}
    }
   ],
   "execution_count": 2
  },
  {
   "cell_type": "markdown",
   "source": "# Detecting Outlier\n---",
   "metadata": {
    "tags": [],
    "cell_id": "00003-9dd68374-fd17-40fc-a070-b64baaed5c1f",
    "deepnote_cell_type": "markdown"
   }
  },
  {
   "cell_type": "code",
   "source": "def robust_mahalanobis_method(df):\n    rng = np.random.RandomState(0)\n    real_cov = np.cov(df.values.T)\n    X = rng.multivariate_normal(mean=np.mean(df, axis=0), cov=real_cov, size=506)\n    cov = MinCovDet(random_state=0).fit(X)\n    mcd = cov.covariance_ #robust covariance metric\n    robust_mean = cov.location_  #robust mean\n    inv_covmat = sp.linalg.inv(mcd) #inverse covariance metric\n    \n    #Robust M-Distance\n    x_minus_mu = df - robust_mean\n    left_term = np.dot(x_minus_mu, inv_covmat)\n    mahal = np.dot(left_term, x_minus_mu.T)\n    md = np.sqrt(mahal.diagonal())\n    \n    #Flag as outlier\n    outlier = []\n    C = np.sqrt(chi2.ppf((1-0.001), df=df.shape[1]))#degrees of freedom = number of variables\n    for index, value in enumerate(md):\n        if value > C:\n            outlier.append(index)\n        else:\n            continue\n    return outlier, md",
   "metadata": {
    "tags": [],
    "cell_id": "00003-f44a25f4-18c4-4afb-8399-55075d3aa997",
    "deepnote_to_be_reexecuted": false,
    "source_hash": "aa8907e9",
    "execution_start": 1620481824425,
    "execution_millis": 4,
    "deepnote_cell_type": "code"
   },
   "outputs": [],
   "execution_count": 3
  },
  {
   "cell_type": "code",
   "source": "df_bivariate = df[[\"Weight_kg\", \"Height_m\"]]\noutliers, md = robust_mahalanobis_method(df=df_bivariate)\ndf_copy = copy.deepcopy(df_bivariate)\ndf_copy[\"md\"] = md\n\ndef flag_outlier(df, outliers):\n    flag = []\n    for index in range(df.shape[0]):\n        if index in outliers:\n            flag.append(1)\n        else:\n            flag.append(0)\n    return flag\n\ndf_copy[\"flag\"] = flag_outlier(df_bivariate, outliers)\ndf = df[df_copy[\"flag\"] == 0]",
   "metadata": {
    "tags": [],
    "cell_id": "00004-f85018aa-b5d9-4c6d-85fb-cb881b4219e4",
    "deepnote_to_be_reexecuted": false,
    "source_hash": "d7ae3e80",
    "execution_start": 1620481824431,
    "execution_millis": 530,
    "deepnote_cell_type": "code"
   },
   "outputs": [],
   "execution_count": 4
  },
  {
   "cell_type": "code",
   "source": "fig, ax = plt.subplots(ncols=1, nrows=1, figsize=(10, 5))\nax = sns.kdeplot(df[\"Height_m\"], color=\"red\")\nplt.show()",
   "metadata": {
    "tags": [],
    "cell_id": "00006-db72332e-a24e-4627-bbfe-7512c490861c",
    "deepnote_to_be_reexecuted": false,
    "source_hash": "a51b92e0",
    "execution_start": 1620481824968,
    "execution_millis": 261,
    "deepnote_cell_type": "code"
   },
   "outputs": [
    {
     "data": {
      "text/plain": "<Figure size 720x360 with 1 Axes>",
      "image/png": "[encoded data removed]"
     },
     "metadata": {
      "image/png": {
       "width": 616,
       "height": 322
      }
     },
     "output_type": "display_data"
    }
   ],
   "execution_count": 5
  },
  {
   "cell_type": "code",
   "source": "s = df.mean(skipna=True, axis=\"index\")\na=pd.DataFrame(s, columns=[\"Mean\"]).T\npd.options.display.float_format = '{:.3f}'.format\nprint(a)\n",
   "metadata": {
    "tags": [],
    "cell_id": "00002-b11bf2d3-d710-4382-86d3-9a5c9614cb55",
    "deepnote_to_be_reexecuted": false,
    "source_hash": "6cd83a3",
    "execution_start": 1620481825204,
    "execution_millis": 25,
    "deepnote_cell_type": "code"
   },
   "outputs": [
    {
     "name": "stdout",
     "text": "      Height_m  Weight_kg\nMean     1.026     46.974\n",
     "output_type": "stream"
    }
   ],
   "execution_count": 6
  },
  {
   "cell_type": "markdown",
   "source": "# Bootstrap configuration\n---\n* ขนาดของ sample 1/4 ของ population\n* สุ่ม 50 sample",
   "metadata": {
    "tags": [],
    "cell_id": "00004-f8f23bf7-0158-47c0-9160-343e8613d9b1",
    "deepnote_cell_type": "markdown"
   }
  },
  {
   "cell_type": "code",
   "source": "#Configure bootstrap\nn_iteration = 5\nsample_ratio = 0.05\nn_size = int(len(df) * sample_ratio)\nCIs = [0.9, 0.95, 0.99]",
   "metadata": {
    "tags": [],
    "cell_id": "00004-ab3e30fd-6f59-4ae1-9384-593871ee6e08",
    "deepnote_to_be_reexecuted": false,
    "source_hash": "5170e033",
    "execution_start": 1620481825206,
    "execution_millis": 4,
    "deepnote_cell_type": "code"
   },
   "outputs": [],
   "execution_count": 7
  },
  {
   "cell_type": "markdown",
   "source": "# คำนวณ sample mean ของแต่ละ sample\n---",
   "metadata": {
    "tags": [],
    "cell_id": "00006-3b7f0e80-bf31-4a0e-a223-0df140a0f341",
    "deepnote_cell_type": "markdown"
   }
  },
  {
   "cell_type": "code",
   "source": "def bootstrap():\n    values = df[\"Height_m\"].values\n    means = list()\n    for _ in range(n_iteration):\n        sample = resample(values, n_samples=n_size, replace=True)\n        x_bar = np.mean(sample)\n        means.append(x_bar)\n    return means",
   "metadata": {
    "tags": [],
    "cell_id": "00005-be80db1e-9ca4-4808-b1fe-d47ed5df325c",
    "deepnote_to_be_reexecuted": false,
    "source_hash": "1c5a7136",
    "execution_start": 1620481825214,
    "execution_millis": 4,
    "deepnote_cell_type": "code"
   },
   "outputs": [],
   "execution_count": 8
  },
  {
   "cell_type": "code",
   "source": "boot_means = bootstrap()\nfig, ax = plt.subplots(ncols=1, nrows=1, figsize=(10, 5))\nax.hist(boot_means)\nax.set(title=f\"Histogram of {n_iteration} sample means\", xlabel=\"Height(m)\")\nplt.show()",
   "metadata": {
    "tags": [],
    "cell_id": "00006-cc967fac-2d63-4164-b6d8-40f3b46c2b6f",
    "deepnote_to_be_reexecuted": false,
    "source_hash": "af394828",
    "execution_start": 1620481825266,
    "execution_millis": 170,
    "deepnote_cell_type": "code"
   },
   "outputs": [
    {
     "data": {
      "text/plain": "<Figure size 720x360 with 1 Axes>",
      "image/png": "[encoded data removed]"
     },
     "metadata": {
      "image/png": {
       "width": 599,
       "height": 338
      }
     },
     "output_type": "display_data"
    }
   ],
   "execution_count": 9
  },
  {
   "cell_type": "code",
   "source": "def confidence_interval(alpha: float, boot_means):\n    p = ((1.0-alpha)/2.0) * 100\n    lower =  np.percentile(boot_means, p) \n    p = (alpha+((1.0-alpha)/2.0)) * 100\n    upper =  np.percentile(boot_means, p) \n    return (lower, upper)\n\nIntervals = dict()\nfor alpha in CIs:\n    lower, upper = confidence_interval(alpha, boot_means)\n    Intervals[f\"{alpha}\"] = (lower, upper)\n    print(f\"\\n{alpha*100}% Confidence level --> interval ({lower:.3f}, {upper:.3f})\")\nCL = pd.DataFrame(data=Intervals)",
   "metadata": {
    "tags": [],
    "cell_id": "00009-71eaf8ee-838a-4636-a3bb-4e3d6e70f3ab",
    "deepnote_to_be_reexecuted": false,
    "source_hash": "1ccc9552",
    "execution_start": 1620481825432,
    "execution_millis": 9,
    "deepnote_cell_type": "code"
   },
   "outputs": [
    {
     "name": "stdout",
     "text": "\n90.0% Confidence level --> interval (0.969, 1.084)\n\n95.0% Confidence level --> interval (0.965, 1.091)\n\n99.0% Confidence level --> interval (0.962, 1.097)\n",
     "output_type": "stream"
    }
   ],
   "execution_count": 10
  },
  {
   "cell_type": "code",
   "source": "fig, ax = plt.subplots(ncols=1, nrows=1, figsize=(10, 5))\nax = sns.pointplot(data=CL, join=False, capsize=0.1)\nax.set(xlabel=\"Confidence Level\", ylabel=\"Height(m)\", title=\"Confidence Level (CI) of Pokemon's Height Mean\")\nred_line = ax.axhline(y=a[\"Height_m\"].Mean,color=\"red\")\nlegend = plt.legend([red_line], [f\"Population Mean = {a['Height_m'].Mean:.3f}\"], loc=\"upper left\")\nplt.show()",
   "metadata": {
    "tags": [],
    "cell_id": "00010-c24b5021-328f-4f48-9456-4b67791cd5bb",
    "deepnote_to_be_reexecuted": false,
    "source_hash": "27881888",
    "execution_start": 1620481825443,
    "execution_millis": 305,
    "deepnote_cell_type": "code"
   },
   "outputs": [
    {
     "data": {
      "text/plain": "<Figure size 720x360 with 1 Axes>",
      "image/png": "[encoded data removed]"
     },
     "metadata": {
      "image/png": {
       "width": 623,
       "height": 338
      }
     },
     "output_type": "display_data"
    }
   ],
   "execution_count": 11
  },
  {
   "cell_type": "markdown",
   "source": "# Confidence interval configuration\n---",
   "metadata": {
    "tags": [],
    "cell_id": "00011-34ff4752-d580-40d3-92b4-30494f6a4c80",
    "deepnote_cell_type": "markdown"
   }
  },
  {
   "cell_type": "code",
   "source": "n_interval = 50\nCIs = [0.9, 0.95, 0.99, 0.3, 0.1]",
   "metadata": {
    "tags": [],
    "cell_id": "00011-0eab229f-c071-4b3c-a9fc-bbfcec6ab168",
    "deepnote_to_be_reexecuted": false,
    "source_hash": "b86e3ff5",
    "execution_start": 1620481825743,
    "execution_millis": 4,
    "deepnote_cell_type": "code"
   },
   "outputs": [],
   "execution_count": 12
  },
  {
   "cell_type": "code",
   "source": "conf_intervals = defaultdict(list)\nfor i in range(n_interval):\n    boot_means = bootstrap()\n    for alpha in CIs:\n        lower, upper = confidence_interval(alpha, boot_means)\n        conf_intervals[f\"{alpha}\"].append((lower, upper))",
   "metadata": {
    "tags": [],
    "cell_id": "00011-685c8b85-ccf3-4c04-ab09-1084e3d67f28",
    "deepnote_to_be_reexecuted": false,
    "source_hash": "a40fb49",
    "execution_start": 1620481825752,
    "execution_millis": 62,
    "deepnote_cell_type": "code"
   },
   "outputs": [],
   "execution_count": 13
  },
  {
   "cell_type": "markdown",
   "source": "# Confidence Level 0.9\n---",
   "metadata": {
    "tags": [],
    "cell_id": "00014-1164afc9-7e26-45e7-a8c1-11b047e40f09",
    "deepnote_cell_type": "markdown"
   }
  },
  {
   "cell_type": "code",
   "source": "fig, ax = plt.subplots(ncols=1, nrows=1, figsize=(20, 5))\nax = sns.pointplot(data=conf_intervals[\"0.9\"], join=False, capsize=0.6)\nax.set(xlabel=\"Random Sample Index\", ylabel=\"Height(m)\", title=\"Confidence Level (CI) of Pokemon's Height Mean\")\nred_line = ax.axhline(y=a[\"Height_m\"].Mean,color=\"red\")\nlegend = plt.legend([red_line], [f\"Population Mean = {a['Height_m'].Mean:.3f}\"], loc=\"upper left\")\nplt.show()",
   "metadata": {
    "tags": [],
    "cell_id": "00014-14bf5dda-60cd-4aa5-ba47-966a932fb992",
    "deepnote_to_be_reexecuted": false,
    "source_hash": "845c931e",
    "execution_start": 1620481825831,
    "execution_millis": 2462,
    "deepnote_cell_type": "code"
   },
   "outputs": [
    {
     "data": {
      "text/plain": "<Figure size 1440x360 with 1 Axes>",
      "image/png": "[encoded data removed]"
     },
     "metadata": {
      "image/png": {
       "width": 1174,
       "height": 338
      }
     },
     "output_type": "display_data"
    }
   ],
   "execution_count": 14
  },
  {
   "cell_type": "markdown",
   "source": "# Confidence Level 0.95\n---",
   "metadata": {
    "tags": [],
    "cell_id": "00016-15af18ad-9540-409d-912d-64fe8cad722f",
    "deepnote_cell_type": "markdown"
   }
  },
  {
   "cell_type": "code",
   "source": "fig, ax = plt.subplots(ncols=1, nrows=1, figsize=(20, 5))\nax = sns.pointplot(data=conf_intervals[\"0.95\"], join=False, capsize=0.6)\nax.set(xlabel=\"Random Sample Index\", ylabel=\"Height(m)\", title=\"Confidence Level (CI) of Pokemon's Height Mean\")\nred_line = ax.axhline(y=a[\"Height_m\"].Mean,color=\"red\")\nlegend = plt.legend([red_line], [f\"Population Mean = {a['Height_m'].Mean:.3f}\"], loc=\"upper left\")\nplt.show()",
   "metadata": {
    "tags": [],
    "cell_id": "00016-53903936-462a-48d2-b13f-535f28de0bcc",
    "deepnote_to_be_reexecuted": false,
    "source_hash": "3c3244f5",
    "execution_start": 1620481828310,
    "execution_millis": 2403,
    "deepnote_cell_type": "code"
   },
   "outputs": [
    {
     "data": {
      "text/plain": "<Figure size 1440x360 with 1 Axes>",
      "image/png": "[encoded data removed]"
     },
     "metadata": {
      "image/png": {
       "width": 1174,
       "height": 338
      }
     },
     "output_type": "display_data"
    }
   ],
   "execution_count": 15
  },
  {
   "cell_type": "markdown",
   "source": "# Confidence Level 0.99\n---",
   "metadata": {
    "tags": [],
    "cell_id": "00018-568b3866-6748-4ca9-9685-ffde6608add2",
    "deepnote_cell_type": "markdown"
   }
  },
  {
   "cell_type": "code",
   "source": "fig, ax = plt.subplots(ncols=1, nrows=1, figsize=(20, 5))\nax = sns.pointplot(data=conf_intervals[\"0.99\"], join=False, capsize=0.6)\nax.set(xlabel=\"Random Sample Index\", ylabel=\"Height(m)\", title=\"Confidence Level (CI) of Pokemon's Height Mean\")\nred_line = ax.axhline(y=a[\"Height_m\"].Mean,color=\"red\")\nlegend = plt.legend([red_line], [f\"Population Mean = {a['Height_m'].Mean:.3f}\"], loc=\"upper left\")\nplt.show()",
   "metadata": {
    "tags": [],
    "cell_id": "00018-66b66e2d-2390-4bd1-9b46-9e0a1d9d3d5c",
    "deepnote_to_be_reexecuted": false,
    "source_hash": "f939a120",
    "execution_start": 1620481830716,
    "execution_millis": 2378,
    "deepnote_cell_type": "code"
   },
   "outputs": [
    {
     "data": {
      "text/plain": "<Figure size 1440x360 with 1 Axes>",
      "image/png": "[encoded data removed]"
     },
     "metadata": {
      "image/png": {
       "width": 1174,
       "height": 338
      }
     },
     "output_type": "display_data"
    }
   ],
   "execution_count": 16
  },
  {
   "cell_type": "markdown",
   "source": "# Confidence Level 0.3\n---",
   "metadata": {
    "tags": [],
    "cell_id": "00020-6d6cb484-83ab-4cbd-b05e-c0a741720d3d",
    "deepnote_cell_type": "markdown"
   }
  },
  {
   "cell_type": "code",
   "source": "fig, ax = plt.subplots(ncols=1, nrows=1, figsize=(20, 5))\nax = sns.pointplot(data=conf_intervals[\"0.3\"], join=False, capsize=0.6)\nred_line = ax.axhline(y=a[\"Height_m\"].Mean,color=\"red\")\nlegend = plt.legend([red_line], [f\"Population Mean = {a['Height_m'].Mean:.3f}\"], loc=\"upper left\")\nplt.show()",
   "metadata": {
    "tags": [],
    "cell_id": "00021-f3521c52-b381-46dc-9ad3-4a63e3b69ded",
    "deepnote_to_be_reexecuted": false,
    "source_hash": "56cf05fb",
    "execution_start": 1620481833114,
    "execution_millis": 2165,
    "deepnote_cell_type": "code"
   },
   "outputs": [
    {
     "data": {
      "text/plain": "<Figure size 1440x360 with 1 Axes>",
      "image/png": "[encoded data removed]"
     },
     "metadata": {
      "image/png": {
       "width": 1164,
       "height": 305
      }
     },
     "output_type": "display_data"
    }
   ],
   "execution_count": 17
  },
  {
   "cell_type": "markdown",
   "source": "# Confidence Level 0.1\n---",
   "metadata": {
    "tags": [],
    "cell_id": "00022-ca770757-7d7f-4717-937c-f60de7dd09aa",
    "deepnote_cell_type": "markdown"
   }
  },
  {
   "cell_type": "code",
   "source": "fig, ax = plt.subplots(ncols=1, nrows=1, figsize=(20, 5))\nax = sns.pointplot(data=conf_intervals[\"0.1\"], join=False, capsize=0.6)\nred_line = ax.axhline(y=a[\"Height_m\"].Mean,color=\"red\")\nlegend = plt.legend([red_line], [f\"Population Mean = {a['Height_m'].Mean:.3f}\"], loc=\"upper left\")\nplt.show()",
   "metadata": {
    "tags": [],
    "cell_id": "00023-62f0e605-b28a-40ea-a137-fff7cd8068ad",
    "deepnote_to_be_reexecuted": false,
    "source_hash": "e48f296",
    "execution_start": 1620481835277,
    "execution_millis": 2002,
    "deepnote_cell_type": "code"
   },
   "outputs": [
    {
     "data": {
      "text/plain": "<Figure size 1440x360 with 1 Axes>",
      "image/png": "[encoded data removed]"
     },
     "metadata": {
      "image/png": {
       "width": 1164,
       "height": 305
      }
     },
     "output_type": "display_data"
    }
   ],
   "execution_count": 18
  },
  {
   "cell_type": "markdown",
   "source": "<a style='text-decoration:none;line-height:16px;display:flex;color:#5B5B62;padding:10px;justify-content:end;' href='https://deepnote.com?utm_source=created-in-deepnote-cell&projectId=ad0c918b-c6e2-4a56-985c-f4267acfa022' target=\"_blank\">\n<img alt='Created in deepnote.com' style='display:inline;max-height:16px;margin:0px;margin-right:7.5px;' src='data:image/svg+xml;base64,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' > </img>\nCreated in <span style='font-weight:600;margin-left:4px;'>Deepnote</span></a>",
   "metadata": {
    "tags": [],
    "created_in_deepnote_cell": true,
    "deepnote_cell_type": "markdown"
   }
  }
 ],
 "nbformat": 4,
 "nbformat_minor": 2,
 "metadata": {
  "orig_nbformat": 2,
  "deepnote": {
   "is_reactive": false
  },
  "deepnote_notebook_id": "436a17e6-25a6-46ea-a70c-555be8cbae24",
  "deepnote_execution_queue": []
 }
}