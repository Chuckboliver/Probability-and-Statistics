{
  "cells": [
    {
      "cell_type": "code",
      "metadata": {
        "tags": [],
        "cell_id": "00000-9de5c329-9e60-48c7-89ae-fd32ac49c300",
        "deepnote_to_be_reexecuted": false,
        "source_hash": "e3563a33",
        "execution_millis": 4,
        "execution_start": 1619352816485,
        "deepnote_cell_type": "code"
      },
      "source": "import pandas as pd\nimport matplotlib.pyplot as plt\nimport seaborn as sns\nimport matplotlib.patches as mpatches\nimport numpy as np\nimport scipy as sp\nfrom scipy.stats import linregress\nfrom sklearn.covariance import MinCovDet\nimport copy\nfrom math import sqrt\n%matplotlib inline",
      "execution_count": 129,
      "outputs": []
    },
    {
      "cell_type": "markdown",
      "source": "# Data-set",
      "metadata": {
        "tags": [],
        "cell_id": "00001-d4b16b1d-753c-40b6-a703-371d7324d12b",
        "deepnote_cell_type": "markdown"
      }
    },
    {
      "cell_type": "code",
      "metadata": {
        "tags": [],
        "cell_id": "00001-0dd2044b-17c0-4794-9344-b80232e79244",
        "deepnote_to_be_reexecuted": false,
        "source_hash": "25ca7f58",
        "execution_millis": 40,
        "execution_start": 1619348135587,
        "deepnote_cell_type": "code"
      },
      "source": "df = pd.read_csv(\"../data_set/pokemon_alopez247.csv\")\ndf = df[[\"Name\", \"Height_m\", \"Weight_kg\"]]\ndf",
      "execution_count": 2,
      "outputs": [
        {
          "output_type": "execute_result",
          "execution_count": 2,
          "data": {
            "application/vnd.deepnote.dataframe.v2+json": {
              "row_count": 721,
              "column_count": 3,
              "columns": [
                {
                  "name": "Name",
                  "dtype": "object",
                  "stats": {
                    "unique_count": 721,
                    "nan_count": 0,
                    "categories": [
                      {
                        "name": "Bulbasaur",
                        "count": 1
                      },
                      {
                        "name": "Ivysaur",
                        "count": 1
                      },
                      {
                        "name": "719 others",
                        "count": 719
                      }
                    ]
                  }
                },
                {
                  "name": "Height_m",
                  "dtype": "float64",
                  "stats": {
                    "unique_count": 50,
                    "nan_count": 0,
                    "min": "0.1",
                    "max": "14.5",
                    "histogram": [
                      {
                        "bin_start": 0.1,
                        "bin_end": 1.54,
                        "count": 582
                      },
                      {
                        "bin_start": 1.54,
                        "bin_end": 2.98,
                        "count": 116
                      },
                      {
                        "bin_start": 2.98,
                        "bin_end": 4.42,
                        "count": 11
                      },
                      {
                        "bin_start": 4.42,
                        "bin_end": 5.859999999999999,
                        "count": 5
                      },
                      {
                        "bin_start": 5.859999999999999,
                        "bin_end": 7.299999999999999,
                        "count": 4
                      },
                      {
                        "bin_start": 7.299999999999999,
                        "bin_end": 8.74,
                        "count": 0
                      },
                      {
                        "bin_start": 8.74,
                        "bin_end": 10.18,
                        "count": 2
                      },
                      {
                        "bin_start": 10.18,
                        "bin_end": 11.62,
                        "count": 0
                      },
                      {
                        "bin_start": 11.62,
                        "bin_end": 13.059999999999999,
                        "count": 0
                      },
                      {
                        "bin_start": 13.059999999999999,
                        "bin_end": 14.5,
                        "count": 1
                      }
                    ]
                  }
                },
                {
                  "name": "Weight_kg",
                  "dtype": "float64",
                  "stats": {
                    "unique_count": 398,
                    "nan_count": 0,
                    "min": "0.1",
                    "max": "950.0",
                    "histogram": [
                      {
                        "bin_start": 0.1,
                        "bin_end": 95.08999999999999,
                        "count": 609
                      },
                      {
                        "bin_start": 95.08999999999999,
                        "bin_end": 190.07999999999998,
                        "count": 59
                      },
                      {
                        "bin_start": 190.07999999999998,
                        "bin_end": 285.07,
                        "count": 29
                      },
                      {
                        "bin_start": 285.07,
                        "bin_end": 380.06,
                        "count": 14
                      },
                      {
                        "bin_start": 380.06,
                        "bin_end": 475.05,
                        "count": 5
                      },
                      {
                        "bin_start": 475.05,
                        "bin_end": 570.04,
                        "count": 2
                      },
                      {
                        "bin_start": 570.04,
                        "bin_end": 665.03,
                        "count": 1
                      },
                      {
                        "bin_start": 665.03,
                        "bin_end": 760.02,
                        "count": 1
                      },
                      {
                        "bin_start": 760.02,
                        "bin_end": 855.01,
                        "count": 0
                      },
                      {
                        "bin_start": 855.01,
                        "bin_end": 950,
                        "count": 1
                      }
                    ]
                  }
                },
                {
                  "name": "_deepnote_index_column",
                  "dtype": "int64"
                }
              ],
              "rows_top": [
                {
                  "Name": "Bulbasaur",
                  "Height_m": 0.71,
                  "Weight_kg": 6.9,
                  "_deepnote_index_column": 0
                },
                {
                  "Name": "Ivysaur",
                  "Height_m": 0.99,
                  "Weight_kg": 13,
                  "_deepnote_index_column": 1
                },
                {
                  "Name": "Venusaur",
                  "Height_m": 2.01,
                  "Weight_kg": 100,
                  "_deepnote_index_column": 2
                },
                {
                  "Name": "Charmander",
                  "Height_m": 0.61,
                  "Weight_kg": 8.5,
                  "_deepnote_index_column": 3
                },
                {
                  "Name": "Charmeleon",
                  "Height_m": 1.09,
                  "Weight_kg": 19,
                  "_deepnote_index_column": 4
                },
                {
                  "Name": "Charizard",
                  "Height_m": 1.7,
                  "Weight_kg": 90.5,
                  "_deepnote_index_column": 5
                },
                {
                  "Name": "Squirtle",
                  "Height_m": 0.51,
                  "Weight_kg": 9,
                  "_deepnote_index_column": 6
                },
                {
                  "Name": "Wartortle",
                  "Height_m": 0.99,
                  "Weight_kg": 22.5,
                  "_deepnote_index_column": 7
                },
                {
                  "Name": "Blastoise",
                  "Height_m": 1.6,
                  "Weight_kg": 85.5,
                  "_deepnote_index_column": 8
                },
                {
                  "Name": "Caterpie",
                  "Height_m": 0.3,
                  "Weight_kg": 2.9,
                  "_deepnote_index_column": 9
                },
                {
                  "Name": "Metapod",
                  "Height_m": 0.71,
                  "Weight_kg": 9.9,
                  "_deepnote_index_column": 10
                },
                {
                  "Name": "Butterfree",
                  "Height_m": 1.09,
                  "Weight_kg": 32,
                  "_deepnote_index_column": 11
                },
                {
                  "Name": "Weedle",
                  "Height_m": 0.3,
                  "Weight_kg": 3.2,
                  "_deepnote_index_column": 12
                },
                {
                  "Name": "Kakuna",
                  "Height_m": 0.61,
                  "Weight_kg": 10,
                  "_deepnote_index_column": 13
                },
                {
                  "Name": "Beedrill",
                  "Height_m": 0.99,
                  "Weight_kg": 29.5,
                  "_deepnote_index_column": 14
                },
                {
                  "Name": "Pidgey",
                  "Height_m": 0.3,
                  "Weight_kg": 1.8,
                  "_deepnote_index_column": 15
                },
                {
                  "Name": "Pidgeotto",
                  "Height_m": 1.09,
                  "Weight_kg": 30,
                  "_deepnote_index_column": 16
                },
                {
                  "Name": "Pidgeot",
                  "Height_m": 1.5,
                  "Weight_kg": 39.5,
                  "_deepnote_index_column": 17
                },
                {
                  "Name": "Rattata",
                  "Height_m": 0.3,
                  "Weight_kg": 3.5,
                  "_deepnote_index_column": 18
                },
                {
                  "Name": "Raticate",
                  "Height_m": 0.71,
                  "Weight_kg": 18.5,
                  "_deepnote_index_column": 19
                },
                {
                  "Name": "Spearow",
                  "Height_m": 0.3,
                  "Weight_kg": 2,
                  "_deepnote_index_column": 20
                },
                {
                  "Name": "Fearow",
                  "Height_m": 1.19,
                  "Weight_kg": 38,
                  "_deepnote_index_column": 21
                },
                {
                  "Name": "Ekans",
                  "Height_m": 2.01,
                  "Weight_kg": 6.9,
                  "_deepnote_index_column": 22
                },
                {
                  "Name": "Arbok",
                  "Height_m": 3.51,
                  "Weight_kg": 65,
                  "_deepnote_index_column": 23
                },
                {
                  "Name": "Pikachu",
                  "Height_m": 0.41,
                  "Weight_kg": 6,
                  "_deepnote_index_column": 24
                },
                {
                  "Name": "Raichu",
                  "Height_m": 0.79,
                  "Weight_kg": 30,
                  "_deepnote_index_column": 25
                },
                {
                  "Name": "Sandshrew",
                  "Height_m": 0.61,
                  "Weight_kg": 12,
                  "_deepnote_index_column": 26
                },
                {
                  "Name": "Sandslash",
                  "Height_m": 0.99,
                  "Weight_kg": 29.5,
                  "_deepnote_index_column": 27
                },
                {
                  "Name": "Nidoran♀",
                  "Height_m": 0.41,
                  "Weight_kg": 7,
                  "_deepnote_index_column": 28
                },
                {
                  "Name": "Nidorina",
                  "Height_m": 0.79,
                  "Weight_kg": 20,
                  "_deepnote_index_column": 29
                },
                {
                  "Name": "Nidoqueen",
                  "Height_m": 1.3,
                  "Weight_kg": 60,
                  "_deepnote_index_column": 30
                },
                {
                  "Name": "Nidoran♂",
                  "Height_m": 0.51,
                  "Weight_kg": 9,
                  "_deepnote_index_column": 31
                },
                {
                  "Name": "Nidorino",
                  "Height_m": 0.89,
                  "Weight_kg": 19.5,
                  "_deepnote_index_column": 32
                },
                {
                  "Name": "Nidoking",
                  "Height_m": 1.4,
                  "Weight_kg": 62,
                  "_deepnote_index_column": 33
                },
                {
                  "Name": "Clefairy",
                  "Height_m": 0.61,
                  "Weight_kg": 7.5,
                  "_deepnote_index_column": 34
                },
                {
                  "Name": "Clefable",
                  "Height_m": 1.3,
                  "Weight_kg": 40,
                  "_deepnote_index_column": 35
                },
                {
                  "Name": "Vulpix",
                  "Height_m": 0.61,
                  "Weight_kg": 9.9,
                  "_deepnote_index_column": 36
                },
                {
                  "Name": "Ninetales",
                  "Height_m": 1.09,
                  "Weight_kg": 19.9,
                  "_deepnote_index_column": 37
                },
                {
                  "Name": "Jigglypuff",
                  "Height_m": 0.51,
                  "Weight_kg": 5.5,
                  "_deepnote_index_column": 38
                },
                {
                  "Name": "Wigglytuff",
                  "Height_m": 0.99,
                  "Weight_kg": 12,
                  "_deepnote_index_column": 39
                },
                {
                  "Name": "Zubat",
                  "Height_m": 0.79,
                  "Weight_kg": 7.5,
                  "_deepnote_index_column": 40
                },
                {
                  "Name": "Golbat",
                  "Height_m": 1.6,
                  "Weight_kg": 55,
                  "_deepnote_index_column": 41
                },
                {
                  "Name": "Oddish",
                  "Height_m": 0.51,
                  "Weight_kg": 5.4,
                  "_deepnote_index_column": 42
                },
                {
                  "Name": "Gloom",
                  "Height_m": 0.79,
                  "Weight_kg": 8.6,
                  "_deepnote_index_column": 43
                },
                {
                  "Name": "Vileplume",
                  "Height_m": 1.19,
                  "Weight_kg": 18.6,
                  "_deepnote_index_column": 44
                },
                {
                  "Name": "Paras",
                  "Height_m": 0.3,
                  "Weight_kg": 5.4,
                  "_deepnote_index_column": 45
                },
                {
                  "Name": "Parasect",
                  "Height_m": 0.99,
                  "Weight_kg": 29.5,
                  "_deepnote_index_column": 46
                },
                {
                  "Name": "Venonat",
                  "Height_m": 0.99,
                  "Weight_kg": 30,
                  "_deepnote_index_column": 47
                },
                {
                  "Name": "Venomoth",
                  "Height_m": 1.5,
                  "Weight_kg": 12.5,
                  "_deepnote_index_column": 48
                },
                {
                  "Name": "Diglett",
                  "Height_m": 0.2,
                  "Weight_kg": 0.8,
                  "_deepnote_index_column": 49
                },
                {
                  "Name": "Dugtrio",
                  "Height_m": 0.71,
                  "Weight_kg": 33.3,
                  "_deepnote_index_column": 50
                },
                {
                  "Name": "Meowth",
                  "Height_m": 0.41,
                  "Weight_kg": 4.2,
                  "_deepnote_index_column": 51
                },
                {
                  "Name": "Persian",
                  "Height_m": 0.99,
                  "Weight_kg": 32,
                  "_deepnote_index_column": 52
                },
                {
                  "Name": "Psyduck",
                  "Height_m": 0.79,
                  "Weight_kg": 19.6,
                  "_deepnote_index_column": 53
                },
                {
                  "Name": "Golduck",
                  "Height_m": 1.7,
                  "Weight_kg": 76.6,
                  "_deepnote_index_column": 54
                },
                {
                  "Name": "Mankey",
                  "Height_m": 0.51,
                  "Weight_kg": 28,
                  "_deepnote_index_column": 55
                },
                {
                  "Name": "Primeape",
                  "Height_m": 0.99,
                  "Weight_kg": 32,
                  "_deepnote_index_column": 56
                },
                {
                  "Name": "Growlithe",
                  "Height_m": 0.71,
                  "Weight_kg": 19,
                  "_deepnote_index_column": 57
                },
                {
                  "Name": "Arcanine",
                  "Height_m": 1.91,
                  "Weight_kg": 155,
                  "_deepnote_index_column": 58
                },
                {
                  "Name": "Poliwag",
                  "Height_m": 0.61,
                  "Weight_kg": 12.4,
                  "_deepnote_index_column": 59
                },
                {
                  "Name": "Poliwhirl",
                  "Height_m": 0.99,
                  "Weight_kg": 20,
                  "_deepnote_index_column": 60
                },
                {
                  "Name": "Poliwrath",
                  "Height_m": 1.3,
                  "Weight_kg": 54,
                  "_deepnote_index_column": 61
                },
                {
                  "Name": "Abra",
                  "Height_m": 0.89,
                  "Weight_kg": 19.5,
                  "_deepnote_index_column": 62
                },
                {
                  "Name": "Kadabra",
                  "Height_m": 1.3,
                  "Weight_kg": 56.5,
                  "_deepnote_index_column": 63
                },
                {
                  "Name": "Alakazam",
                  "Height_m": 1.5,
                  "Weight_kg": 48,
                  "_deepnote_index_column": 64
                },
                {
                  "Name": "Machop",
                  "Height_m": 0.79,
                  "Weight_kg": 19.5,
                  "_deepnote_index_column": 65
                },
                {
                  "Name": "Machoke",
                  "Height_m": 1.5,
                  "Weight_kg": 70.5,
                  "_deepnote_index_column": 66
                },
                {
                  "Name": "Machamp",
                  "Height_m": 1.6,
                  "Weight_kg": 130,
                  "_deepnote_index_column": 67
                },
                {
                  "Name": "Bellsprout",
                  "Height_m": 0.71,
                  "Weight_kg": 4,
                  "_deepnote_index_column": 68
                },
                {
                  "Name": "Weepinbell",
                  "Height_m": 0.99,
                  "Weight_kg": 6.4,
                  "_deepnote_index_column": 69
                },
                {
                  "Name": "Victreebel",
                  "Height_m": 1.7,
                  "Weight_kg": 15.5,
                  "_deepnote_index_column": 70
                },
                {
                  "Name": "Tentacool",
                  "Height_m": 0.89,
                  "Weight_kg": 45.5,
                  "_deepnote_index_column": 71
                },
                {
                  "Name": "Tentacruel",
                  "Height_m": 1.6,
                  "Weight_kg": 55,
                  "_deepnote_index_column": 72
                },
                {
                  "Name": "Geodude",
                  "Height_m": 0.41,
                  "Weight_kg": 20,
                  "_deepnote_index_column": 73
                },
                {
                  "Name": "Graveler",
                  "Height_m": 0.99,
                  "Weight_kg": 105,
                  "_deepnote_index_column": 74
                },
                {
                  "Name": "Golem",
                  "Height_m": 1.4,
                  "Weight_kg": 300,
                  "_deepnote_index_column": 75
                },
                {
                  "Name": "Ponyta",
                  "Height_m": 0.99,
                  "Weight_kg": 30,
                  "_deepnote_index_column": 76
                },
                {
                  "Name": "Rapidash",
                  "Height_m": 1.7,
                  "Weight_kg": 95,
                  "_deepnote_index_column": 77
                },
                {
                  "Name": "Slowpoke",
                  "Height_m": 1.19,
                  "Weight_kg": 36,
                  "_deepnote_index_column": 78
                },
                {
                  "Name": "Slowbro",
                  "Height_m": 1.6,
                  "Weight_kg": 78.5,
                  "_deepnote_index_column": 79
                },
                {
                  "Name": "Magnemite",
                  "Height_m": 0.3,
                  "Weight_kg": 6,
                  "_deepnote_index_column": 80
                },
                {
                  "Name": "Magneton",
                  "Height_m": 0.99,
                  "Weight_kg": 60,
                  "_deepnote_index_column": 81
                },
                {
                  "Name": "Farfetch'd",
                  "Height_m": 0.79,
                  "Weight_kg": 15,
                  "_deepnote_index_column": 82
                },
                {
                  "Name": "Doduo",
                  "Height_m": 1.4,
                  "Weight_kg": 39.2,
                  "_deepnote_index_column": 83
                },
                {
                  "Name": "Dodrio",
                  "Height_m": 1.8,
                  "Weight_kg": 85.2,
                  "_deepnote_index_column": 84
                },
                {
                  "Name": "Seel",
                  "Height_m": 1.09,
                  "Weight_kg": 90,
                  "_deepnote_index_column": 85
                },
                {
                  "Name": "Dewgong",
                  "Height_m": 1.7,
                  "Weight_kg": 120,
                  "_deepnote_index_column": 86
                },
                {
                  "Name": "Grimer",
                  "Height_m": 0.89,
                  "Weight_kg": 30,
                  "_deepnote_index_column": 87
                },
                {
                  "Name": "Muk",
                  "Height_m": 1.19,
                  "Weight_kg": 30,
                  "_deepnote_index_column": 88
                },
                {
                  "Name": "Shellder",
                  "Height_m": 0.3,
                  "Weight_kg": 4,
                  "_deepnote_index_column": 89
                },
                {
                  "Name": "Cloyster",
                  "Height_m": 1.5,
                  "Weight_kg": 132.5,
                  "_deepnote_index_column": 90
                },
                {
                  "Name": "Gastly",
                  "Height_m": 1.3,
                  "Weight_kg": 0.1,
                  "_deepnote_index_column": 91
                },
                {
                  "Name": "Haunter",
                  "Height_m": 1.6,
                  "Weight_kg": 0.1,
                  "_deepnote_index_column": 92
                },
                {
                  "Name": "Gengar",
                  "Height_m": 1.5,
                  "Weight_kg": 40.5,
                  "_deepnote_index_column": 93
                },
                {
                  "Name": "Onix",
                  "Height_m": 8.79,
                  "Weight_kg": 210,
                  "_deepnote_index_column": 94
                },
                {
                  "Name": "Drowzee",
                  "Height_m": 0.99,
                  "Weight_kg": 32.4,
                  "_deepnote_index_column": 95
                },
                {
                  "Name": "Hypno",
                  "Height_m": 1.6,
                  "Weight_kg": 75.6,
                  "_deepnote_index_column": 96
                },
                {
                  "Name": "Krabby",
                  "Height_m": 0.41,
                  "Weight_kg": 6.5,
                  "_deepnote_index_column": 97
                },
                {
                  "Name": "Kingler",
                  "Height_m": 1.3,
                  "Weight_kg": 60,
                  "_deepnote_index_column": 98
                },
                {
                  "Name": "Voltorb",
                  "Height_m": 0.51,
                  "Weight_kg": 10.4,
                  "_deepnote_index_column": 99
                },
                {
                  "Name": "Electrode",
                  "Height_m": 1.19,
                  "Weight_kg": 66.6,
                  "_deepnote_index_column": 100
                },
                {
                  "Name": "Exeggcute",
                  "Height_m": 0.41,
                  "Weight_kg": 2.5,
                  "_deepnote_index_column": 101
                },
                {
                  "Name": "Exeggutor",
                  "Height_m": 2.01,
                  "Weight_kg": 120,
                  "_deepnote_index_column": 102
                },
                {
                  "Name": "Cubone",
                  "Height_m": 0.41,
                  "Weight_kg": 6.5,
                  "_deepnote_index_column": 103
                },
                {
                  "Name": "Marowak",
                  "Height_m": 0.99,
                  "Weight_kg": 45,
                  "_deepnote_index_column": 104
                },
                {
                  "Name": "Hitmonlee",
                  "Height_m": 1.5,
                  "Weight_kg": 49.8,
                  "_deepnote_index_column": 105
                },
                {
                  "Name": "Hitmonchan",
                  "Height_m": 1.4,
                  "Weight_kg": 50.2,
                  "_deepnote_index_column": 106
                },
                {
                  "Name": "Lickitung",
                  "Height_m": 1.19,
                  "Weight_kg": 65.5,
                  "_deepnote_index_column": 107
                },
                {
                  "Name": "Koffing",
                  "Height_m": 0.61,
                  "Weight_kg": 1,
                  "_deepnote_index_column": 108
                },
                {
                  "Name": "Weezing",
                  "Height_m": 1.19,
                  "Weight_kg": 9.5,
                  "_deepnote_index_column": 109
                },
                {
                  "Name": "Rhyhorn",
                  "Height_m": 0.99,
                  "Weight_kg": 115,
                  "_deepnote_index_column": 110
                },
                {
                  "Name": "Rhydon",
                  "Height_m": 1.91,
                  "Weight_kg": 120,
                  "_deepnote_index_column": 111
                },
                {
                  "Name": "Chansey",
                  "Height_m": 1.09,
                  "Weight_kg": 34.6,
                  "_deepnote_index_column": 112
                },
                {
                  "Name": "Tangela",
                  "Height_m": 0.99,
                  "Weight_kg": 35,
                  "_deepnote_index_column": 113
                },
                {
                  "Name": "Kangaskhan",
                  "Height_m": 2.21,
                  "Weight_kg": 80,
                  "_deepnote_index_column": 114
                },
                {
                  "Name": "Horsea",
                  "Height_m": 0.41,
                  "Weight_kg": 8,
                  "_deepnote_index_column": 115
                },
                {
                  "Name": "Seadra",
                  "Height_m": 1.19,
                  "Weight_kg": 25,
                  "_deepnote_index_column": 116
                },
                {
                  "Name": "Goldeen",
                  "Height_m": 0.61,
                  "Weight_kg": 15,
                  "_deepnote_index_column": 117
                },
                {
                  "Name": "Seaking",
                  "Height_m": 1.3,
                  "Weight_kg": 39,
                  "_deepnote_index_column": 118
                },
                {
                  "Name": "Staryu",
                  "Height_m": 0.79,
                  "Weight_kg": 34.5,
                  "_deepnote_index_column": 119
                },
                {
                  "Name": "Starmie",
                  "Height_m": 1.09,
                  "Weight_kg": 80,
                  "_deepnote_index_column": 120
                },
                {
                  "Name": "Mr._Mime",
                  "Height_m": 1.3,
                  "Weight_kg": 54.5,
                  "_deepnote_index_column": 121
                },
                {
                  "Name": "Scyther",
                  "Height_m": 1.5,
                  "Weight_kg": 56,
                  "_deepnote_index_column": 122
                },
                {
                  "Name": "Jynx",
                  "Height_m": 1.4,
                  "Weight_kg": 40.6,
                  "_deepnote_index_column": 123
                },
                {
                  "Name": "Electabuzz",
                  "Height_m": 1.09,
                  "Weight_kg": 30,
                  "_deepnote_index_column": 124
                },
                {
                  "Name": "Magmar",
                  "Height_m": 1.3,
                  "Weight_kg": 44.5,
                  "_deepnote_index_column": 125
                },
                {
                  "Name": "Pinsir",
                  "Height_m": 1.5,
                  "Weight_kg": 55,
                  "_deepnote_index_column": 126
                },
                {
                  "Name": "Tauros",
                  "Height_m": 1.4,
                  "Weight_kg": 88.4,
                  "_deepnote_index_column": 127
                },
                {
                  "Name": "Magikarp",
                  "Height_m": 0.89,
                  "Weight_kg": 10,
                  "_deepnote_index_column": 128
                },
                {
                  "Name": "Gyarados",
                  "Height_m": 6.5,
                  "Weight_kg": 235,
                  "_deepnote_index_column": 129
                },
                {
                  "Name": "Lapras",
                  "Height_m": 2.49,
                  "Weight_kg": 220,
                  "_deepnote_index_column": 130
                },
                {
                  "Name": "Ditto",
                  "Height_m": 0.3,
                  "Weight_kg": 4,
                  "_deepnote_index_column": 131
                },
                {
                  "Name": "Eevee",
                  "Height_m": 0.3,
                  "Weight_kg": 6.5,
                  "_deepnote_index_column": 132
                },
                {
                  "Name": "Vaporeon",
                  "Height_m": 0.99,
                  "Weight_kg": 29,
                  "_deepnote_index_column": 133
                },
                {
                  "Name": "Jolteon",
                  "Height_m": 0.79,
                  "Weight_kg": 24.5,
                  "_deepnote_index_column": 134
                },
                {
                  "Name": "Flareon",
                  "Height_m": 0.89,
                  "Weight_kg": 25,
                  "_deepnote_index_column": 135
                },
                {
                  "Name": "Porygon",
                  "Height_m": 0.79,
                  "Weight_kg": 36.5,
                  "_deepnote_index_column": 136
                },
                {
                  "Name": "Omanyte",
                  "Height_m": 0.41,
                  "Weight_kg": 7.5,
                  "_deepnote_index_column": 137
                },
                {
                  "Name": "Omastar",
                  "Height_m": 0.99,
                  "Weight_kg": 35,
                  "_deepnote_index_column": 138
                },
                {
                  "Name": "Kabuto",
                  "Height_m": 0.51,
                  "Weight_kg": 11.5,
                  "_deepnote_index_column": 139
                },
                {
                  "Name": "Kabutops",
                  "Height_m": 1.3,
                  "Weight_kg": 40.5,
                  "_deepnote_index_column": 140
                },
                {
                  "Name": "Aerodactyl",
                  "Height_m": 1.8,
                  "Weight_kg": 59,
                  "_deepnote_index_column": 141
                },
                {
                  "Name": "Snorlax",
                  "Height_m": 2.11,
                  "Weight_kg": 460,
                  "_deepnote_index_column": 142
                },
                {
                  "Name": "Articuno",
                  "Height_m": 1.7,
                  "Weight_kg": 55.4,
                  "_deepnote_index_column": 143
                },
                {
                  "Name": "Zapdos",
                  "Height_m": 1.6,
                  "Weight_kg": 52.6,
                  "_deepnote_index_column": 144
                },
                {
                  "Name": "Moltres",
                  "Height_m": 2.01,
                  "Weight_kg": 60,
                  "_deepnote_index_column": 145
                },
                {
                  "Name": "Dratini",
                  "Height_m": 1.8,
                  "Weight_kg": 3.3,
                  "_deepnote_index_column": 146
                },
                {
                  "Name": "Dragonair",
                  "Height_m": 3.99,
                  "Weight_kg": 16.5,
                  "_deepnote_index_column": 147
                },
                {
                  "Name": "Dragonite",
                  "Height_m": 2.21,
                  "Weight_kg": 210,
                  "_deepnote_index_column": 148
                },
                {
                  "Name": "Mewtwo",
                  "Height_m": 2.01,
                  "Weight_kg": 122,
                  "_deepnote_index_column": 149
                },
                {
                  "Name": "Mew",
                  "Height_m": 0.41,
                  "Weight_kg": 4,
                  "_deepnote_index_column": 150
                },
                {
                  "Name": "Chikorita",
                  "Height_m": 0.89,
                  "Weight_kg": 6.4,
                  "_deepnote_index_column": 151
                },
                {
                  "Name": "Bayleef",
                  "Height_m": 1.19,
                  "Weight_kg": 15.8,
                  "_deepnote_index_column": 152
                },
                {
                  "Name": "Meganium",
                  "Height_m": 1.8,
                  "Weight_kg": 100.5,
                  "_deepnote_index_column": 153
                },
                {
                  "Name": "Cyndaquil",
                  "Height_m": 0.51,
                  "Weight_kg": 7.9,
                  "_deepnote_index_column": 154
                },
                {
                  "Name": "Quilava",
                  "Height_m": 0.89,
                  "Weight_kg": 19,
                  "_deepnote_index_column": 155
                },
                {
                  "Name": "Typhlosion",
                  "Height_m": 1.7,
                  "Weight_kg": 79.5,
                  "_deepnote_index_column": 156
                },
                {
                  "Name": "Totodile",
                  "Height_m": 0.61,
                  "Weight_kg": 9.5,
                  "_deepnote_index_column": 157
                },
                {
                  "Name": "Croconaw",
                  "Height_m": 1.09,
                  "Weight_kg": 25,
                  "_deepnote_index_column": 158
                },
                {
                  "Name": "Feraligatr",
                  "Height_m": 2.31,
                  "Weight_kg": 88.8,
                  "_deepnote_index_column": 159
                },
                {
                  "Name": "Sentret",
                  "Height_m": 0.79,
                  "Weight_kg": 6,
                  "_deepnote_index_column": 160
                },
                {
                  "Name": "Furret",
                  "Height_m": 1.8,
                  "Weight_kg": 32.5,
                  "_deepnote_index_column": 161
                },
                {
                  "Name": "Hoothoot",
                  "Height_m": 0.71,
                  "Weight_kg": 21.2,
                  "_deepnote_index_column": 162
                },
                {
                  "Name": "Noctowl",
                  "Height_m": 1.6,
                  "Weight_kg": 40.8,
                  "_deepnote_index_column": 163
                },
                {
                  "Name": "Ledyba",
                  "Height_m": 0.99,
                  "Weight_kg": 10.8,
                  "_deepnote_index_column": 164
                },
                {
                  "Name": "Ledian",
                  "Height_m": 1.4,
                  "Weight_kg": 35.6,
                  "_deepnote_index_column": 165
                }
              ],
              "rows_bottom": [
                {
                  "Name": "Darmanitan",
                  "Height_m": 1.3,
                  "Weight_kg": 92.9,
                  "_deepnote_index_column": 554
                },
                {
                  "Name": "Maractus",
                  "Height_m": 0.99,
                  "Weight_kg": 28,
                  "_deepnote_index_column": 555
                },
                {
                  "Name": "Dwebble",
                  "Height_m": 0.3,
                  "Weight_kg": 14.5,
                  "_deepnote_index_column": 556
                },
                {
                  "Name": "Crustle",
                  "Height_m": 1.4,
                  "Weight_kg": 200,
                  "_deepnote_index_column": 557
                },
                {
                  "Name": "Scraggy",
                  "Height_m": 0.61,
                  "Weight_kg": 11.8,
                  "_deepnote_index_column": 558
                },
                {
                  "Name": "Scrafty",
                  "Height_m": 1.09,
                  "Weight_kg": 30,
                  "_deepnote_index_column": 559
                },
                {
                  "Name": "Sigilyph",
                  "Height_m": 1.4,
                  "Weight_kg": 14,
                  "_deepnote_index_column": 560
                },
                {
                  "Name": "Yamask",
                  "Height_m": 0.51,
                  "Weight_kg": 1.5,
                  "_deepnote_index_column": 561
                },
                {
                  "Name": "Cofagrigus",
                  "Height_m": 1.7,
                  "Weight_kg": 76.5,
                  "_deepnote_index_column": 562
                },
                {
                  "Name": "Tirtouga",
                  "Height_m": 0.71,
                  "Weight_kg": 16.5,
                  "_deepnote_index_column": 563
                },
                {
                  "Name": "Carracosta",
                  "Height_m": 1.19,
                  "Weight_kg": 81,
                  "_deepnote_index_column": 564
                },
                {
                  "Name": "Archen",
                  "Height_m": 0.51,
                  "Weight_kg": 9.5,
                  "_deepnote_index_column": 565
                },
                {
                  "Name": "Archeops",
                  "Height_m": 1.4,
                  "Weight_kg": 32,
                  "_deepnote_index_column": 566
                },
                {
                  "Name": "Trubbish",
                  "Height_m": 0.61,
                  "Weight_kg": 31,
                  "_deepnote_index_column": 567
                },
                {
                  "Name": "Garbodor",
                  "Height_m": 1.91,
                  "Weight_kg": 107.3,
                  "_deepnote_index_column": 568
                },
                {
                  "Name": "Zorua",
                  "Height_m": 0.71,
                  "Weight_kg": 12.5,
                  "_deepnote_index_column": 569
                },
                {
                  "Name": "Zoroark",
                  "Height_m": 1.6,
                  "Weight_kg": 81.1,
                  "_deepnote_index_column": 570
                },
                {
                  "Name": "Minccino",
                  "Height_m": 0.41,
                  "Weight_kg": 5.8,
                  "_deepnote_index_column": 571
                },
                {
                  "Name": "Cinccino",
                  "Height_m": 0.51,
                  "Weight_kg": 7.5,
                  "_deepnote_index_column": 572
                },
                {
                  "Name": "Gothita",
                  "Height_m": 0.41,
                  "Weight_kg": 5.8,
                  "_deepnote_index_column": 573
                },
                {
                  "Name": "Gothorita",
                  "Height_m": 0.71,
                  "Weight_kg": 18,
                  "_deepnote_index_column": 574
                },
                {
                  "Name": "Gothitelle",
                  "Height_m": 1.5,
                  "Weight_kg": 44,
                  "_deepnote_index_column": 575
                },
                {
                  "Name": "Solosis",
                  "Height_m": 0.3,
                  "Weight_kg": 1,
                  "_deepnote_index_column": 576
                },
                {
                  "Name": "Duosion",
                  "Height_m": 0.61,
                  "Weight_kg": 8,
                  "_deepnote_index_column": 577
                },
                {
                  "Name": "Reuniclus",
                  "Height_m": 0.99,
                  "Weight_kg": 20.1,
                  "_deepnote_index_column": 578
                },
                {
                  "Name": "Ducklett",
                  "Height_m": 0.51,
                  "Weight_kg": 5.5,
                  "_deepnote_index_column": 579
                },
                {
                  "Name": "Swanna",
                  "Height_m": 1.3,
                  "Weight_kg": 24.2,
                  "_deepnote_index_column": 580
                },
                {
                  "Name": "Vanillite",
                  "Height_m": 0.41,
                  "Weight_kg": 5.7,
                  "_deepnote_index_column": 581
                },
                {
                  "Name": "Vanillish",
                  "Height_m": 1.09,
                  "Weight_kg": 41,
                  "_deepnote_index_column": 582
                },
                {
                  "Name": "Vanilluxe",
                  "Height_m": 1.3,
                  "Weight_kg": 57.5,
                  "_deepnote_index_column": 583
                },
                {
                  "Name": "Deerling",
                  "Height_m": 0.61,
                  "Weight_kg": 19.5,
                  "_deepnote_index_column": 584
                },
                {
                  "Name": "Sawsbuck",
                  "Height_m": 1.91,
                  "Weight_kg": 92.5,
                  "_deepnote_index_column": 585
                },
                {
                  "Name": "Emolga",
                  "Height_m": 0.41,
                  "Weight_kg": 5,
                  "_deepnote_index_column": 586
                },
                {
                  "Name": "Karrablast",
                  "Height_m": 0.51,
                  "Weight_kg": 5.9,
                  "_deepnote_index_column": 587
                },
                {
                  "Name": "Escavalier",
                  "Height_m": 0.99,
                  "Weight_kg": 33,
                  "_deepnote_index_column": 588
                },
                {
                  "Name": "Foongus",
                  "Height_m": 0.2,
                  "Weight_kg": 1,
                  "_deepnote_index_column": 589
                },
                {
                  "Name": "Amoonguss",
                  "Height_m": 0.61,
                  "Weight_kg": 10.5,
                  "_deepnote_index_column": 590
                },
                {
                  "Name": "Frillish",
                  "Height_m": 1.19,
                  "Weight_kg": 33,
                  "_deepnote_index_column": 591
                },
                {
                  "Name": "Jellicent",
                  "Height_m": 2.21,
                  "Weight_kg": 135,
                  "_deepnote_index_column": 592
                },
                {
                  "Name": "Alomomola",
                  "Height_m": 1.19,
                  "Weight_kg": 31.6,
                  "_deepnote_index_column": 593
                },
                {
                  "Name": "Joltik",
                  "Height_m": 0.1,
                  "Weight_kg": 0.6,
                  "_deepnote_index_column": 594
                },
                {
                  "Name": "Galvantula",
                  "Height_m": 0.79,
                  "Weight_kg": 14.3,
                  "_deepnote_index_column": 595
                },
                {
                  "Name": "Ferroseed",
                  "Height_m": 0.61,
                  "Weight_kg": 18.8,
                  "_deepnote_index_column": 596
                },
                {
                  "Name": "Ferrothorn",
                  "Height_m": 0.99,
                  "Weight_kg": 110,
                  "_deepnote_index_column": 597
                },
                {
                  "Name": "Klink",
                  "Height_m": 0.3,
                  "Weight_kg": 21,
                  "_deepnote_index_column": 598
                },
                {
                  "Name": "Klang",
                  "Height_m": 0.61,
                  "Weight_kg": 51,
                  "_deepnote_index_column": 599
                },
                {
                  "Name": "Klinklang",
                  "Height_m": 0.61,
                  "Weight_kg": 81,
                  "_deepnote_index_column": 600
                },
                {
                  "Name": "Tynamo",
                  "Height_m": 0.2,
                  "Weight_kg": 0.3,
                  "_deepnote_index_column": 601
                },
                {
                  "Name": "Eelektrik",
                  "Height_m": 1.19,
                  "Weight_kg": 22,
                  "_deepnote_index_column": 602
                },
                {
                  "Name": "Eelektross",
                  "Height_m": 2.11,
                  "Weight_kg": 80.5,
                  "_deepnote_index_column": 603
                },
                {
                  "Name": "Elgyem",
                  "Height_m": 0.51,
                  "Weight_kg": 9,
                  "_deepnote_index_column": 604
                },
                {
                  "Name": "Beheeyem",
                  "Height_m": 0.99,
                  "Weight_kg": 34.5,
                  "_deepnote_index_column": 605
                },
                {
                  "Name": "Litwick",
                  "Height_m": 0.3,
                  "Weight_kg": 3.1,
                  "_deepnote_index_column": 606
                },
                {
                  "Name": "Lampent",
                  "Height_m": 0.61,
                  "Weight_kg": 13,
                  "_deepnote_index_column": 607
                },
                {
                  "Name": "Chandelure",
                  "Height_m": 0.99,
                  "Weight_kg": 34.3,
                  "_deepnote_index_column": 608
                },
                {
                  "Name": "Axew",
                  "Height_m": 0.61,
                  "Weight_kg": 18,
                  "_deepnote_index_column": 609
                },
                {
                  "Name": "Fraxure",
                  "Height_m": 0.99,
                  "Weight_kg": 36,
                  "_deepnote_index_column": 610
                },
                {
                  "Name": "Haxorus",
                  "Height_m": 1.8,
                  "Weight_kg": 105.5,
                  "_deepnote_index_column": 611
                },
                {
                  "Name": "Cubchoo",
                  "Height_m": 0.51,
                  "Weight_kg": 8.5,
                  "_deepnote_index_column": 612
                },
                {
                  "Name": "Beartic",
                  "Height_m": 2.59,
                  "Weight_kg": 260,
                  "_deepnote_index_column": 613
                },
                {
                  "Name": "Cryogonal",
                  "Height_m": 1.09,
                  "Weight_kg": 148,
                  "_deepnote_index_column": 614
                },
                {
                  "Name": "Shelmet",
                  "Height_m": 0.41,
                  "Weight_kg": 7.7,
                  "_deepnote_index_column": 615
                },
                {
                  "Name": "Accelgor",
                  "Height_m": 0.79,
                  "Weight_kg": 25.3,
                  "_deepnote_index_column": 616
                },
                {
                  "Name": "Stunfisk",
                  "Height_m": 0.71,
                  "Weight_kg": 11,
                  "_deepnote_index_column": 617
                },
                {
                  "Name": "Mienfoo",
                  "Height_m": 0.89,
                  "Weight_kg": 20,
                  "_deepnote_index_column": 618
                },
                {
                  "Name": "Mienshao",
                  "Height_m": 1.4,
                  "Weight_kg": 35.5,
                  "_deepnote_index_column": 619
                },
                {
                  "Name": "Druddigon",
                  "Height_m": 1.6,
                  "Weight_kg": 139,
                  "_deepnote_index_column": 620
                },
                {
                  "Name": "Golett",
                  "Height_m": 0.99,
                  "Weight_kg": 92,
                  "_deepnote_index_column": 621
                },
                {
                  "Name": "Golurk",
                  "Height_m": 2.79,
                  "Weight_kg": 330,
                  "_deepnote_index_column": 622
                },
                {
                  "Name": "Pawniard",
                  "Height_m": 0.51,
                  "Weight_kg": 10.2,
                  "_deepnote_index_column": 623
                },
                {
                  "Name": "Bisharp",
                  "Height_m": 1.6,
                  "Weight_kg": 70,
                  "_deepnote_index_column": 624
                },
                {
                  "Name": "Bouffalant",
                  "Height_m": 1.6,
                  "Weight_kg": 94.6,
                  "_deepnote_index_column": 625
                },
                {
                  "Name": "Rufflet",
                  "Height_m": 0.51,
                  "Weight_kg": 10.5,
                  "_deepnote_index_column": 626
                },
                {
                  "Name": "Braviary",
                  "Height_m": 1.5,
                  "Weight_kg": 41,
                  "_deepnote_index_column": 627
                },
                {
                  "Name": "Vullaby",
                  "Height_m": 0.51,
                  "Weight_kg": 9,
                  "_deepnote_index_column": 628
                },
                {
                  "Name": "Mandibuzz",
                  "Height_m": 1.19,
                  "Weight_kg": 39.5,
                  "_deepnote_index_column": 629
                },
                {
                  "Name": "Heatmor",
                  "Height_m": 1.4,
                  "Weight_kg": 58,
                  "_deepnote_index_column": 630
                },
                {
                  "Name": "Durant",
                  "Height_m": 0.3,
                  "Weight_kg": 33,
                  "_deepnote_index_column": 631
                },
                {
                  "Name": "Deino",
                  "Height_m": 0.79,
                  "Weight_kg": 17.3,
                  "_deepnote_index_column": 632
                },
                {
                  "Name": "Zweilous",
                  "Height_m": 1.4,
                  "Weight_kg": 50,
                  "_deepnote_index_column": 633
                },
                {
                  "Name": "Hydreigon",
                  "Height_m": 1.8,
                  "Weight_kg": 160,
                  "_deepnote_index_column": 634
                },
                {
                  "Name": "Larvesta",
                  "Height_m": 1.09,
                  "Weight_kg": 28.8,
                  "_deepnote_index_column": 635
                },
                {
                  "Name": "Volcarona",
                  "Height_m": 1.6,
                  "Weight_kg": 46,
                  "_deepnote_index_column": 636
                },
                {
                  "Name": "Cobalion",
                  "Height_m": 2.11,
                  "Weight_kg": 250,
                  "_deepnote_index_column": 637
                },
                {
                  "Name": "Terrakion",
                  "Height_m": 1.91,
                  "Weight_kg": 260,
                  "_deepnote_index_column": 638
                },
                {
                  "Name": "Virizion",
                  "Height_m": 2.01,
                  "Weight_kg": 200,
                  "_deepnote_index_column": 639
                },
                {
                  "Name": "Tornadus",
                  "Height_m": 1.5,
                  "Weight_kg": 63,
                  "_deepnote_index_column": 640
                },
                {
                  "Name": "Thundurus",
                  "Height_m": 1.5,
                  "Weight_kg": 61,
                  "_deepnote_index_column": 641
                },
                {
                  "Name": "Reshiram",
                  "Height_m": 3.2,
                  "Weight_kg": 330,
                  "_deepnote_index_column": 642
                },
                {
                  "Name": "Zekrom",
                  "Height_m": 2.9,
                  "Weight_kg": 345,
                  "_deepnote_index_column": 643
                },
                {
                  "Name": "Landorus",
                  "Height_m": 1.5,
                  "Weight_kg": 68,
                  "_deepnote_index_column": 644
                },
                {
                  "Name": "Kyurem",
                  "Height_m": 3,
                  "Weight_kg": 325,
                  "_deepnote_index_column": 645
                },
                {
                  "Name": "Keldeo",
                  "Height_m": 1.4,
                  "Weight_kg": 48.5,
                  "_deepnote_index_column": 646
                },
                {
                  "Name": "Meloetta",
                  "Height_m": 0.61,
                  "Weight_kg": 6.5,
                  "_deepnote_index_column": 647
                },
                {
                  "Name": "Genesect",
                  "Height_m": 1.5,
                  "Weight_kg": 82.5,
                  "_deepnote_index_column": 648
                },
                {
                  "Name": "Chespin",
                  "Height_m": 0.41,
                  "Weight_kg": 9,
                  "_deepnote_index_column": 649
                },
                {
                  "Name": "Quilladin",
                  "Height_m": 0.71,
                  "Weight_kg": 29,
                  "_deepnote_index_column": 650
                },
                {
                  "Name": "Chesnaught",
                  "Height_m": 1.6,
                  "Weight_kg": 90,
                  "_deepnote_index_column": 651
                },
                {
                  "Name": "Fennekin",
                  "Height_m": 0.41,
                  "Weight_kg": 9.4,
                  "_deepnote_index_column": 652
                },
                {
                  "Name": "Braixen",
                  "Height_m": 0.99,
                  "Weight_kg": 14.5,
                  "_deepnote_index_column": 653
                },
                {
                  "Name": "Delphox",
                  "Height_m": 1.5,
                  "Weight_kg": 39,
                  "_deepnote_index_column": 654
                },
                {
                  "Name": "Froakie",
                  "Height_m": 0.3,
                  "Weight_kg": 7,
                  "_deepnote_index_column": 655
                },
                {
                  "Name": "Frogadier",
                  "Height_m": 0.61,
                  "Weight_kg": 10.9,
                  "_deepnote_index_column": 656
                },
                {
                  "Name": "Greninja",
                  "Height_m": 1.5,
                  "Weight_kg": 40,
                  "_deepnote_index_column": 657
                },
                {
                  "Name": "Bunnelby",
                  "Height_m": 0.41,
                  "Weight_kg": 5,
                  "_deepnote_index_column": 658
                },
                {
                  "Name": "Diggersby",
                  "Height_m": 0.99,
                  "Weight_kg": 42.4,
                  "_deepnote_index_column": 659
                },
                {
                  "Name": "Fletchling",
                  "Height_m": 0.3,
                  "Weight_kg": 1.7,
                  "_deepnote_index_column": 660
                },
                {
                  "Name": "Fletchinder",
                  "Height_m": 0.71,
                  "Weight_kg": 16,
                  "_deepnote_index_column": 661
                },
                {
                  "Name": "Talonflame",
                  "Height_m": 1.19,
                  "Weight_kg": 24.5,
                  "_deepnote_index_column": 662
                },
                {
                  "Name": "Scatterbug",
                  "Height_m": 0.3,
                  "Weight_kg": 2.5,
                  "_deepnote_index_column": 663
                },
                {
                  "Name": "Spewpa",
                  "Height_m": 0.3,
                  "Weight_kg": 8.4,
                  "_deepnote_index_column": 664
                },
                {
                  "Name": "Vivillon",
                  "Height_m": 1.19,
                  "Weight_kg": 17,
                  "_deepnote_index_column": 665
                },
                {
                  "Name": "Litleo",
                  "Height_m": 0.61,
                  "Weight_kg": 13.5,
                  "_deepnote_index_column": 666
                },
                {
                  "Name": "Pyroar",
                  "Height_m": 1.5,
                  "Weight_kg": 81.5,
                  "_deepnote_index_column": 667
                },
                {
                  "Name": "Flabébé",
                  "Height_m": 0.1,
                  "Weight_kg": 0.1,
                  "_deepnote_index_column": 668
                },
                {
                  "Name": "Floette",
                  "Height_m": 0.2,
                  "Weight_kg": 0.9,
                  "_deepnote_index_column": 669
                },
                {
                  "Name": "Florges",
                  "Height_m": 1.09,
                  "Weight_kg": 10,
                  "_deepnote_index_column": 670
                },
                {
                  "Name": "Skiddo",
                  "Height_m": 0.89,
                  "Weight_kg": 31,
                  "_deepnote_index_column": 671
                },
                {
                  "Name": "Gogoat",
                  "Height_m": 1.7,
                  "Weight_kg": 91,
                  "_deepnote_index_column": 672
                },
                {
                  "Name": "Pancham",
                  "Height_m": 0.61,
                  "Weight_kg": 8,
                  "_deepnote_index_column": 673
                },
                {
                  "Name": "Pangoro",
                  "Height_m": 2.11,
                  "Weight_kg": 136,
                  "_deepnote_index_column": 674
                },
                {
                  "Name": "Furfrou",
                  "Height_m": 1.19,
                  "Weight_kg": 28,
                  "_deepnote_index_column": 675
                },
                {
                  "Name": "Espurr",
                  "Height_m": 0.3,
                  "Weight_kg": 3.5,
                  "_deepnote_index_column": 676
                },
                {
                  "Name": "Meowstic",
                  "Height_m": 0.61,
                  "Weight_kg": 8.5,
                  "_deepnote_index_column": 677
                },
                {
                  "Name": "Honedge",
                  "Height_m": 0.79,
                  "Weight_kg": 2,
                  "_deepnote_index_column": 678
                },
                {
                  "Name": "Doublade",
                  "Height_m": 0.84,
                  "Weight_kg": 4.5,
                  "_deepnote_index_column": 679
                },
                {
                  "Name": "Aegislash",
                  "Height_m": 1.7,
                  "Weight_kg": 53,
                  "_deepnote_index_column": 680
                },
                {
                  "Name": "Spritzee",
                  "Height_m": 0.2,
                  "Weight_kg": 0.5,
                  "_deepnote_index_column": 681
                },
                {
                  "Name": "Aromatisse",
                  "Height_m": 0.79,
                  "Weight_kg": 15.5,
                  "_deepnote_index_column": 682
                },
                {
                  "Name": "Swirlix",
                  "Height_m": 0.41,
                  "Weight_kg": 3.5,
                  "_deepnote_index_column": 683
                },
                {
                  "Name": "Slurpuff",
                  "Height_m": 0.79,
                  "Weight_kg": 5,
                  "_deepnote_index_column": 684
                },
                {
                  "Name": "Inkay",
                  "Height_m": 0.41,
                  "Weight_kg": 3.5,
                  "_deepnote_index_column": 685
                },
                {
                  "Name": "Malamar",
                  "Height_m": 1.5,
                  "Weight_kg": 47,
                  "_deepnote_index_column": 686
                },
                {
                  "Name": "Binacle",
                  "Height_m": 0.51,
                  "Weight_kg": 31,
                  "_deepnote_index_column": 687
                },
                {
                  "Name": "Barbaracle",
                  "Height_m": 1.3,
                  "Weight_kg": 96,
                  "_deepnote_index_column": 688
                },
                {
                  "Name": "Skrelp",
                  "Height_m": 0.51,
                  "Weight_kg": 7.3,
                  "_deepnote_index_column": 689
                },
                {
                  "Name": "Dragalge",
                  "Height_m": 1.8,
                  "Weight_kg": 81.5,
                  "_deepnote_index_column": 690
                },
                {
                  "Name": "Clauncher",
                  "Height_m": 0.51,
                  "Weight_kg": 8.3,
                  "_deepnote_index_column": 691
                },
                {
                  "Name": "Clawitzer",
                  "Height_m": 1.3,
                  "Weight_kg": 35.3,
                  "_deepnote_index_column": 692
                },
                {
                  "Name": "Helioptile",
                  "Height_m": 0.51,
                  "Weight_kg": 6,
                  "_deepnote_index_column": 693
                },
                {
                  "Name": "Heliolisk",
                  "Height_m": 0.99,
                  "Weight_kg": 21,
                  "_deepnote_index_column": 694
                },
                {
                  "Name": "Tyrunt",
                  "Height_m": 0.79,
                  "Weight_kg": 26,
                  "_deepnote_index_column": 695
                },
                {
                  "Name": "Tyrantrum",
                  "Height_m": 2.49,
                  "Weight_kg": 270,
                  "_deepnote_index_column": 696
                },
                {
                  "Name": "Amaura",
                  "Height_m": 1.3,
                  "Weight_kg": 25.2,
                  "_deepnote_index_column": 697
                },
                {
                  "Name": "Aurorus",
                  "Height_m": 2.69,
                  "Weight_kg": 225,
                  "_deepnote_index_column": 698
                },
                {
                  "Name": "Sylveon",
                  "Height_m": 0.99,
                  "Weight_kg": 23.5,
                  "_deepnote_index_column": 699
                },
                {
                  "Name": "Hawlucha",
                  "Height_m": 0.79,
                  "Weight_kg": 21.5,
                  "_deepnote_index_column": 700
                },
                {
                  "Name": "Dedenne",
                  "Height_m": 0.2,
                  "Weight_kg": 2.2,
                  "_deepnote_index_column": 701
                },
                {
                  "Name": "Carbink",
                  "Height_m": 0.3,
                  "Weight_kg": 5.7,
                  "_deepnote_index_column": 702
                },
                {
                  "Name": "Goomy",
                  "Height_m": 0.3,
                  "Weight_kg": 2.8,
                  "_deepnote_index_column": 703
                },
                {
                  "Name": "Sliggoo",
                  "Height_m": 0.79,
                  "Weight_kg": 17.5,
                  "_deepnote_index_column": 704
                },
                {
                  "Name": "Goodra",
                  "Height_m": 2.01,
                  "Weight_kg": 150.5,
                  "_deepnote_index_column": 705
                },
                {
                  "Name": "Klefki",
                  "Height_m": 0.2,
                  "Weight_kg": 3,
                  "_deepnote_index_column": 706
                },
                {
                  "Name": "Phantump",
                  "Height_m": 0.41,
                  "Weight_kg": 7,
                  "_deepnote_index_column": 707
                },
                {
                  "Name": "Trevenant",
                  "Height_m": 1.5,
                  "Weight_kg": 71,
                  "_deepnote_index_column": 708
                },
                {
                  "Name": "Pumpkaboo",
                  "Height_m": 0.41,
                  "Weight_kg": 5,
                  "_deepnote_index_column": 709
                },
                {
                  "Name": "Gourgeist",
                  "Height_m": 1.7,
                  "Weight_kg": 39,
                  "_deepnote_index_column": 710
                },
                {
                  "Name": "Bergmite",
                  "Height_m": 0.99,
                  "Weight_kg": 99.5,
                  "_deepnote_index_column": 711
                },
                {
                  "Name": "Avalugg",
                  "Height_m": 2.01,
                  "Weight_kg": 505,
                  "_deepnote_index_column": 712
                },
                {
                  "Name": "Noibat",
                  "Height_m": 0.51,
                  "Weight_kg": 8,
                  "_deepnote_index_column": 713
                },
                {
                  "Name": "Noivern",
                  "Height_m": 1.5,
                  "Weight_kg": 85,
                  "_deepnote_index_column": 714
                },
                {
                  "Name": "Xerneas",
                  "Height_m": 3,
                  "Weight_kg": 215,
                  "_deepnote_index_column": 715
                },
                {
                  "Name": "Yveltal",
                  "Height_m": 5.79,
                  "Weight_kg": 203,
                  "_deepnote_index_column": 716
                },
                {
                  "Name": "Zygarde",
                  "Height_m": 5,
                  "Weight_kg": 305,
                  "_deepnote_index_column": 717
                },
                {
                  "Name": "Diancie",
                  "Height_m": 0.71,
                  "Weight_kg": 8.8,
                  "_deepnote_index_column": 718
                },
                {
                  "Name": "Hoopa",
                  "Height_m": 0.51,
                  "Weight_kg": 9,
                  "_deepnote_index_column": 719
                },
                {
                  "Name": "Volcanion",
                  "Height_m": 1.7,
                  "Weight_kg": 195,
                  "_deepnote_index_column": 720
                }
              ]
            },
            "text/plain": "           Name  Height_m  Weight_kg\n0     Bulbasaur      0.71        6.9\n1       Ivysaur      0.99       13.0\n2      Venusaur      2.01      100.0\n3    Charmander      0.61        8.5\n4    Charmeleon      1.09       19.0\n..          ...       ...        ...\n716     Yveltal      5.79      203.0\n717     Zygarde      5.00      305.0\n718     Diancie      0.71        8.8\n719       Hoopa      0.51        9.0\n720   Volcanion      1.70      195.0\n\n[721 rows x 3 columns]",
            "text/html": "<div>\n<style scoped>\n    .dataframe tbody tr th:only-of-type {\n        vertical-align: middle;\n    }\n\n    .dataframe tbody tr th {\n        vertical-align: top;\n    }\n\n    .dataframe thead th {\n        text-align: right;\n    }\n</style>\n<table border=\"1\" class=\"dataframe\">\n  <thead>\n    <tr style=\"text-align: right;\">\n      <th></th>\n      <th>Name</th>\n      <th>Height_m</th>\n      <th>Weight_kg</th>\n    </tr>\n  </thead>\n  <tbody>\n    <tr>\n      <th>0</th>\n      <td>Bulbasaur</td>\n      <td>0.71</td>\n      <td>6.9</td>\n    </tr>\n    <tr>\n      <th>1</th>\n      <td>Ivysaur</td>\n      <td>0.99</td>\n      <td>13.0</td>\n    </tr>\n    <tr>\n      <th>2</th>\n      <td>Venusaur</td>\n      <td>2.01</td>\n      <td>100.0</td>\n    </tr>\n    <tr>\n      <th>3</th>\n      <td>Charmander</td>\n      <td>0.61</td>\n      <td>8.5</td>\n    </tr>\n    <tr>\n      <th>4</th>\n      <td>Charmeleon</td>\n      <td>1.09</td>\n      <td>19.0</td>\n    </tr>\n    <tr>\n      <th>...</th>\n      <td>...</td>\n      <td>...</td>\n      <td>...</td>\n    </tr>\n    <tr>\n      <th>716</th>\n      <td>Yveltal</td>\n      <td>5.79</td>\n      <td>203.0</td>\n    </tr>\n    <tr>\n      <th>717</th>\n      <td>Zygarde</td>\n      <td>5.00</td>\n      <td>305.0</td>\n    </tr>\n    <tr>\n      <th>718</th>\n      <td>Diancie</td>\n      <td>0.71</td>\n      <td>8.8</td>\n    </tr>\n    <tr>\n      <th>719</th>\n      <td>Hoopa</td>\n      <td>0.51</td>\n      <td>9.0</td>\n    </tr>\n    <tr>\n      <th>720</th>\n      <td>Volcanion</td>\n      <td>1.70</td>\n      <td>195.0</td>\n    </tr>\n  </tbody>\n</table>\n<p>721 rows × 3 columns</p>\n</div>"
          },
          "metadata": {}
        }
      ]
    },
    {
      "cell_type": "code",
      "metadata": {
        "tags": [],
        "cell_id": "00002-c23c408e-e86a-46a8-8efe-ebb7a066fcd0",
        "deepnote_to_be_reexecuted": false,
        "source_hash": "28b95fbb",
        "execution_millis": 171,
        "execution_start": 1619348135628,
        "deepnote_cell_type": "code"
      },
      "source": "red_dot2 = plt.scatter(x=df[\"Weight_kg\"], y=df[\"Height_m\"], color=\"red\", edgecolors=\"black\")\nplt.xlabel(\"Weight(kg)\")\nplt.ylabel(\"Height(m)\")\nplt.title(\"Scatter Plot-(Weight, Height)\")\nred_patch = mpatches.Patch(color=\"red\", label=\"Pokemon\")\nlegend = plt.legend([red_dot2], [\"Pokemon\"], loc=\"upper right\", facecolor=\"black\")\n[text.set_color(\"white\") for text in legend.get_texts()]\nplt.show()",
      "execution_count": 3,
      "outputs": [
        {
          "data": {
            "text/plain": "<Figure size 432x288 with 1 Axes>",
            "image/png": "[encoded data removed]"
          },
          "metadata": {
            "needs_background": "light"
          },
          "output_type": "display_data"
        }
      ]
    },
    {
      "cell_type": "markdown",
      "source": "# Detecting Outlier\n---\n* **Detecting multivariate outliers**\n* **Robust Mahalanobis Distance**\n> The Minimum Covariance Determinant method (MCD) provides robust estimates for µ and C by only using a subset of the sample. It only uses the observations where the determinant of the covariance matrix is as small as possible. It is defined as the classic MD but with robust estimates for mean and covariance:",
      "metadata": {
        "tags": [],
        "cell_id": "00010-670e4663-1e5a-4ddd-8d79-f3943cf9602e",
        "deepnote_cell_type": "markdown"
      }
    },
    {
      "cell_type": "code",
      "source": "def robust_mahalanobis_method(df):\n    rng = np.random.RandomState(0)\n    real_cov = np.cov(df.values.T)\n    X = rng.multivariate_normal(mean=np.mean(df, axis=0), cov=real_cov, size=506)\n    cov = MinCovDet(random_state=0).fit(X)\n    mcd = cov.covariance_ #robust covariance metric\n    robust_mean = cov.location_  #robust mean\n    inv_covmat = sp.linalg.inv(mcd) #inverse covariance metric\n    \n    #Robust M-Distance\n    x_minus_mu = df - robust_mean\n    left_term = np.dot(x_minus_mu, inv_covmat)\n    mahal = np.dot(left_term, x_minus_mu.T)\n    md = np.sqrt(mahal.diagonal())\n    \n    #Flag as outlier\n    outlier = []\n    C = np.sqrt(chi2.ppf((1-0.001), df=df.shape[1]))#degrees of freedom = number of variables\n    for index, value in enumerate(md):\n        if value > C:\n            outlier.append(index)\n        else:\n            continue\n    return outlier, md",
      "metadata": {
        "tags": [],
        "cell_id": "00011-417de5c3-2a6d-4b15-838c-678813a1d733",
        "deepnote_to_be_reexecuted": false,
        "source_hash": "aa8907e9",
        "execution_millis": 3,
        "execution_start": 1619348136035,
        "deepnote_cell_type": "code"
      },
      "outputs": [],
      "execution_count": 9
    },
    {
      "cell_type": "code",
      "source": "df_bivariate = df[[\"Weight_kg\", \"Height_m\"]]\noutliers, md = robust_mahalanobis_method(df=df_bivariate)\ndf_copy = copy.deepcopy(df_bivariate)\ndf_copy[\"md\"] = md\n\ndef flag_outlier(df, outliers):\n    flag = []\n    for index in range(df.shape[0]):\n        if index in outliers:\n            flag.append(1)\n        else:\n            flag.append(0)\n    return flag\n\ndf_copy[\"flag\"] = flag_outlier(df_bivariate, outliers)",
      "metadata": {
        "tags": [],
        "cell_id": "00012-9af40ced-4172-4cc7-8dc9-de82eb191601",
        "deepnote_to_be_reexecuted": false,
        "source_hash": "7c2a5503",
        "execution_millis": 492,
        "execution_start": 1619348822859,
        "deepnote_cell_type": "code"
      },
      "outputs": [],
      "execution_count": 24
    },
    {
      "cell_type": "code",
      "source": "fig, ax = plt.subplots(ncols=1, nrows=1, figsize=(10, 5))\nax = sns.scatterplot(x=\"Weight_kg\", y=\"Height_m\", hue=\"flag\", data=df_copy, edgecolor=\"black\", linewidth=1.2)\nax.set(title=\"Scatter plot of Pokemon weight and height\", xlabel=\"Weight(kg)\", ylabel=\"Height(m)\")\nplt.show()",
      "metadata": {
        "tags": [],
        "cell_id": "00013-3bbbdf31-25c5-4e7a-a791-b23878faae6c",
        "deepnote_to_be_reexecuted": false,
        "source_hash": "fbde6bee",
        "execution_millis": 294,
        "execution_start": 1619349579596,
        "deepnote_cell_type": "code"
      },
      "outputs": [
        {
          "data": {
            "text/plain": "<Figure size 720x360 with 1 Axes>",
            "image/png": "[encoded data removed]"
          },
          "metadata": {
            "needs_background": "light"
          },
          "output_type": "display_data"
        }
      ],
      "execution_count": 55
    },
    {
      "cell_type": "code",
      "source": "df_all = df[[\"Weight_kg\", \"Height_m\"]]\ndf_non_outlier = df[df_copy[\"flag\"] == 0]",
      "metadata": {
        "tags": [],
        "cell_id": "00014-536ec2e3-8188-45b5-9bbb-925e18d263ca",
        "deepnote_to_be_reexecuted": false,
        "source_hash": "523b995e",
        "execution_millis": 2,
        "execution_start": 1619350142380,
        "deepnote_cell_type": "code"
      },
      "outputs": [],
      "execution_count": 68
    },
    {
      "cell_type": "code",
      "source": "fig, ax = plt.subplots(ncols=1, nrows=1, figsize=(10, 5))\nax = sns.scatterplot(x=\"Weight_kg\", y=\"Height_m\", data=df_non_outlier, edgecolor=\"black\", linewidth=1.2)\nax.set(title=\"Scatter plot of Pokemon weight and height\", xlabel=\"Weight(kg)\", ylabel=\"Height(m)\")\n\nplt.show()",
      "metadata": {
        "tags": [],
        "cell_id": "00009-7cee5818-2f7e-411a-99fe-1a662f643aa0",
        "deepnote_to_be_reexecuted": false,
        "source_hash": "a665e3c1",
        "execution_start": 1619350261530,
        "execution_millis": 161,
        "deepnote_cell_type": "code"
      },
      "outputs": [
        {
          "data": {
            "text/plain": "<Figure size 720x360 with 1 Axes>",
            "image/png": "[encoded data removed]"
          },
          "metadata": {
            "needs_background": "light"
          },
          "output_type": "display_data"
        }
      ],
      "execution_count": 70
    },
    {
      "cell_type": "markdown",
      "source": "# Linear Regression\n---",
      "metadata": {
        "tags": [],
        "cell_id": "00010-4487724a-9d92-4488-8c75-dce1d0d3b010",
        "deepnote_cell_type": "markdown"
      }
    },
    {
      "cell_type": "code",
      "source": "x = df_non_outlier[\"Weight_kg\"]\ny = df_non_outlier[\"Height_m\"]\nn = x.size\nx_bar = x.mean()\ny_bar = y.mean()\nSxx = np.sum(x*x) - n * x_bar**2\nSyy = np.sum(y*y) - n * y_bar**2\nSxy = np.sum(x*y) - n * x_bar * y_bar\nr = Sxy / (sqrt(Sxx) * sqrt(Syy))\nr",
      "metadata": {
        "tags": [],
        "cell_id": "00015-ba478dea-ddce-4051-b5d0-7c5e323c05a7",
        "deepnote_to_be_reexecuted": false,
        "source_hash": "55083357",
        "execution_millis": 9,
        "execution_start": 1619352502901,
        "deepnote_cell_type": "code"
      },
      "outputs": [
        {
          "output_type": "execute_result",
          "execution_count": 116,
          "data": {
            "text/plain": "0.7512231293702626"
          },
          "metadata": {}
        }
      ],
      "execution_count": 116
    },
    {
      "cell_type": "code",
      "metadata": {
        "tags": [],
        "cell_id": "00010-55cae9fc-6175-43ae-9a60-d2a4b360609f",
        "deepnote_to_be_reexecuted": false,
        "source_hash": "7c32567b",
        "execution_millis": 139,
        "execution_start": 1619355340383,
        "deepnote_cell_type": "code"
      },
      "source": "x=df_non_outlier[\"Weight_kg\"]\ny=df_non_outlier[\"Height_m\"]\n\nfig, ax = plt.subplots(ncols=1, nrows=1, figsize=(10, 5))\nax = sns.scatterplot(x=\"Weight_kg\", y=\"Height_m\", data=df_non_outlier, edgecolor=\"black\")\nax.set(title=\"Linear Regression of Pokemon weight and height\", xlabel=\"Weight(kg)\", ylabel=\"Height(m)\")\n\nm, b = np.polyfit(x, y, 1)\n\nplt.plot(x, m*x + b,linewidth=2,color='orange')\n\nplt.show()\n\nprint('slope(m):',m)\nprint('y-intercept(b):',b)\nprint('Linear Correlation(r):',r)\n",
      "execution_count": 151,
      "outputs": [
        {
          "data": {
            "text/plain": "<Figure size 720x360 with 1 Axes>",
            "image/png": "[encoded data removed]"
          },
          "metadata": {
            "needs_background": "light"
          },
          "output_type": "display_data"
        },
        {
          "name": "stdout",
          "text": "slope(m): 0.007401677999523718\ny-intercept(b): 0.6785728352726581\nLinear Correlation(r): 0.7512231293702626\n",
          "output_type": "stream"
        }
      ]
    },
    {
      "cell_type": "markdown",
      "source": "# บทวิเคราะห์ Linear Regression\n---\n    1.จากค่า Linear Correlation(r) ทำให้เห็นว่าน้ำหนักของ Pokemon มีอิทธิพลต่อส่วนสูงของ Pokemon มาก (Strong)\n    2.จากค่า slope(m) ทำให้รู้ว่าน้ำหนักของ Pokemon แปรผันตรงกับส่วนสูงของ Pokemon เชน เมื่อน้ำหนักของ Pokemon สูงขึ้นส่วนสูงของ Pokemon จะมีแนวโน้มสูงขึ้นเช่นกัน\n    3.จากค่า y-intercept(b) ทำให้รู้ว่าถ้าน้ำหนักของ Pokemon เข้าใกล้ 0 กิโลกรัม จะมีส่วนสูงประมาณ 0.679 เมตร\n    4.เส้น Linear Regression มีความสมเหตุสมผลในช่วงน้ำหนักของ Pokemon 0.1-345.0 กิโลกรัมเท่านั้น\n    5.การนำ outlier ออกก่อนนำมาทำ Linear Regression โดยวิธี Robust Mahalanobis Distance ทำให้ความแปรปรวนในข้อมูลน้อยลง ทำให้ได้ผลลัพธ์ที่มีนัยสำคัญทางสถิติมากขึ้น",
      "metadata": {
        "tags": [],
        "cell_id": "00014-ff68a7db-51cf-4f6d-97ed-656a98cf2abd",
        "deepnote_cell_type": "markdown"
      }
    },
    {
      "cell_type": "markdown",
      "source": "<a style='text-decoration:none;line-height:16px;display:flex;color:#5B5B62;padding:10px;justify-content:end;' href='https://deepnote.com?utm_source=created-in-deepnote-cell&projectId=ad0c918b-c6e2-4a56-985c-f4267acfa022' target=\"_blank\">\n<img alt='Created in deepnote.com' style='display:inline;max-height:16px;margin:0px;margin-right:7.5px;' src='data:image/svg+xml;base64,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' > </img>\nCreated in <span style='font-weight:600;margin-left:4px;'>Deepnote</span></a>",
      "metadata": {
        "tags": [],
        "created_in_deepnote_cell": true,
        "deepnote_cell_type": "markdown"
      }
    }
  ],
  "nbformat": 4,
  "nbformat_minor": 2,
  "metadata": {
    "orig_nbformat": 2,
    "deepnote": {
      "is_reactive": false
    },
    "deepnote_notebook_id": "ce2f7e46-f82d-4f09-b77f-0bb46796e1d3",
    "deepnote_execution_queue": []
  }
}